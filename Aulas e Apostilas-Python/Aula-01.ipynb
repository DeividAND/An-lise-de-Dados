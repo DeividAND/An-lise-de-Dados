{
 "cells": [
  {
   "cell_type": "markdown",
   "metadata": {},
   "source": [
    "# Variáveis"
   ]
  },
  {
   "cell_type": "code",
   "execution_count": 4,
   "metadata": {},
   "outputs": [
    {
     "name": "stdout",
     "output_type": "stream",
     "text": [
      "Deivid Augusto\n",
      "<class 'str'>\n"
     ]
    }
   ],
   "source": [
    "aluno = 'Deivid Augusto' # Esta linha cria uma variável e armazena um texto.\n",
    "print(aluno) # Esta linha pede ao comp. para exibir o texto guardado na variável aluno.\n",
    "print(type(aluno)) # Esta linha exibe qual é o tipo de dado armazenado na variável."
   ]
  },
  {
   "cell_type": "code",
   "execution_count": 6,
   "metadata": {},
   "outputs": [
    {
     "name": "stdout",
     "output_type": "stream",
     "text": [
      "25\n",
      "<class 'int'>\n"
     ]
    }
   ],
   "source": [
    "idade = 25 # Esta linha cria uma variável e armazena um núm int.\n",
    "print(idade) # Esta linha pede ao comp. para exibir o núm guardado na variável idade.\n",
    "print(type(idade)) # Esta linha exibe qual é o tipo de dado armazenado na variável."
   ]
  },
  {
   "cell_type": "code",
   "execution_count": 7,
   "metadata": {},
   "outputs": [
    {
     "name": "stdout",
     "output_type": "stream",
     "text": [
      "1.8\n",
      "<class 'float'>\n"
     ]
    }
   ],
   "source": [
    "altura = 1.80 # Esta linha cria uma variável e armazena um núm float.\n",
    "print(altura) # Esta linha pede ao comp. para exibir o núm float guardado na variável altura.\n",
    "print(type(altura)) # Esta linha exibe qual é o tipo de dado armazenado na variável."
   ]
  },
  {
   "cell_type": "code",
   "execution_count": 9,
   "metadata": {},
   "outputs": [
    {
     "name": "stdout",
     "output_type": "stream",
     "text": [
      "5\n"
     ]
    }
   ],
   "source": [
    "soma = 3 + 2\n",
    "print(soma)"
   ]
  },
  {
   "cell_type": "code",
   "execution_count": 10,
   "metadata": {},
   "outputs": [
    {
     "name": "stdout",
     "output_type": "stream",
     "text": [
      "1\n"
     ]
    }
   ],
   "source": [
    "menos = 3 - 2\n",
    "print(menos)"
   ]
  },
  {
   "cell_type": "code",
   "execution_count": 11,
   "metadata": {},
   "outputs": [
    {
     "name": "stdout",
     "output_type": "stream",
     "text": [
      "6\n"
     ]
    }
   ],
   "source": [
    "vezes = 3 * 2\n",
    "print(vezes)"
   ]
  },
  {
   "cell_type": "code",
   "execution_count": 12,
   "metadata": {},
   "outputs": [
    {
     "name": "stdout",
     "output_type": "stream",
     "text": [
      "1.5\n"
     ]
    }
   ],
   "source": [
    "dividir = 3 / 2\n",
    "print(dividir)"
   ]
  }
 ],
 "metadata": {
  "kernelspec": {
   "display_name": "Python 3",
   "language": "python",
   "name": "python3"
  },
  "language_info": {
   "codemirror_mode": {
    "name": "ipython",
    "version": 3
   },
   "file_extension": ".py",
   "mimetype": "text/x-python",
   "name": "python",
   "nbconvert_exporter": "python",
   "pygments_lexer": "ipython3",
   "version": "3.12.2"
  }
 },
 "nbformat": 4,
 "nbformat_minor": 2
}
