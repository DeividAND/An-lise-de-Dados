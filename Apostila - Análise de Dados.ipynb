{
 "cells": [
  {
   "cell_type": "markdown",
   "metadata": {},
   "source": [
    "# 1 - Variáveis e Tipos de Dados"
   ]
  },
  {
   "cell_type": "markdown",
   "metadata": {},
   "source": [
    "## 1.1 - Variáveis"
   ]
  },
  {
   "cell_type": "code",
   "execution_count": 1,
   "metadata": {},
   "outputs": [
    {
     "name": "stdout",
     "output_type": "stream",
     "text": [
      "Deivid\n",
      "25\n"
     ]
    }
   ],
   "source": [
    "'''\n",
    "Em python, variáveis são utilizadas para armazenar valores na memória do computador. Para criar uma variável, você precisa usar nome e um valor.\n",
    "O nome de variável deve seguir as regras de nomeclatura do Python:\n",
    "\n",
    "Deve começar com uma letra ou sublinhado (_).\n",
    "Pode conter letras, números e sublinhados.\n",
    "Não pode ser uma palavra chave reservada do Python.\n",
    "Para atribuir valor a uma variável, utilize o operados de atribuição (=).\n",
    "Exemplo:\n",
    "'''\n",
    "nome = 'Deivid'\n",
    "print(nome)\n",
    "idade = 25\n",
    "print(idade)"
   ]
  },
  {
   "cell_type": "markdown",
   "metadata": {},
   "source": [
    "## 1.2 - Tipos de Dados "
   ]
  },
  {
   "cell_type": "code",
   "execution_count": 2,
   "metadata": {},
   "outputs": [
    {
     "name": "stdout",
     "output_type": "stream",
     "text": [
      "<class 'str'>\n",
      "<class 'int'>\n",
      "<class 'float'>\n"
     ]
    }
   ],
   "source": [
    "'''\n",
    "Tipos de Dados:\n",
    "\n",
    "Cada variável em Python possui um tipo de dado, que define o tupo de valor que ele pode armazenar. Os tipos de dados mais comuns em Python são:\n",
    "\n",
    "Inteiro(int): Números inteiros, como 1, 2, 3, etc.\n",
    "Ponto flutuante (float): Números com casas decimais, como 1.5, 2.75, 3.14, etc.\n",
    "String (str): Textos, como \"Olá, mundo!\", \"Python é legal\", etc.\n",
    "Booleano (bool): Valores True ou False.\n",
    "Conversão de tipos:\n",
    "\n",
    "É possível converter um tipo de dado para outro usando funções específicas.\n",
    "Exemplo:\n",
    "'''\n",
    "nome = 'Deivid'\n",
    "print(type(nome))\n",
    "numero_inteiro = 10\n",
    "print(type(numero_inteiro))\n",
    "numero_float = float(numero_inteiro) # Converte um inteiro para um float\n",
    "print(type(numero_float))\n"
   ]
  },
  {
   "cell_type": "markdown",
   "metadata": {},
   "source": [
    "# 2 - Operadores Python "
   ]
  },
  {
   "cell_type": "markdown",
   "metadata": {},
   "source": [
    "## 2.1 - Operadores Matemáticos"
   ]
  },
  {
   "cell_type": "code",
   "execution_count": 3,
   "metadata": {},
   "outputs": [
    {
     "data": {
      "text/plain": [
       "'\\nOs operadores aritméticos em Python permitem realizar operações matemáticas\\nbásicas, como adição, subtração, multiplicação, divisão e exponenciação. São\\nferramentas essenciais para qualquer programador Python, desde iniciantes até\\nexperientes.\\n'"
      ]
     },
     "execution_count": 3,
     "metadata": {},
     "output_type": "execute_result"
    }
   ],
   "source": [
    "'''\n",
    "Os operadores aritméticos em Python permitem realizar operações matemáticas\n",
    "básicas, como adição, subtração, multiplicação, divisão e exponenciação. São\n",
    "ferramentas essenciais para qualquer programador Python, desde iniciantes até\n",
    "experientes.\n",
    "'''"
   ]
  },
  {
   "cell_type": "code",
   "execution_count": 4,
   "metadata": {},
   "outputs": [
    {
     "name": "stdout",
     "output_type": "stream",
     "text": [
      "7\n"
     ]
    }
   ],
   "source": [
    "# Soma (+)\n",
    "mais = 5 + 2\n",
    "print(mais)"
   ]
  },
  {
   "cell_type": "code",
   "execution_count": 5,
   "metadata": {},
   "outputs": [
    {
     "name": "stdout",
     "output_type": "stream",
     "text": [
      "3\n"
     ]
    }
   ],
   "source": [
    "# Subtração (-)\n",
    "menos = 5 - 2\n",
    "print(menos)"
   ]
  },
  {
   "cell_type": "code",
   "execution_count": 6,
   "metadata": {},
   "outputs": [
    {
     "name": "stdout",
     "output_type": "stream",
     "text": [
      "10\n"
     ]
    }
   ],
   "source": [
    "# Multiplicação (*)\n",
    "vezeas = 5 * 2\n",
    "print(vezeas)"
   ]
  },
  {
   "cell_type": "code",
   "execution_count": 7,
   "metadata": {},
   "outputs": [
    {
     "name": "stdout",
     "output_type": "stream",
     "text": [
      "2.5\n"
     ]
    }
   ],
   "source": [
    "# Divisão (/)\n",
    "dividir = 5 / 2\n",
    "print(dividir)"
   ]
  },
  {
   "cell_type": "code",
   "execution_count": 8,
   "metadata": {},
   "outputs": [
    {
     "name": "stdout",
     "output_type": "stream",
     "text": [
      "2\n"
     ]
    }
   ],
   "source": [
    "# Divisão inteira (//)\n",
    "inteiro = 5 // 2\n",
    "print(inteiro)"
   ]
  },
  {
   "cell_type": "code",
   "execution_count": 9,
   "metadata": {},
   "outputs": [
    {
     "name": "stdout",
     "output_type": "stream",
     "text": [
      "1\n"
     ]
    }
   ],
   "source": [
    "# Resto da divisão (%)\n",
    "resto = 5 % 2\n",
    "print(resto)"
   ]
  },
  {
   "cell_type": "code",
   "execution_count": 10,
   "metadata": {},
   "outputs": [
    {
     "name": "stdout",
     "output_type": "stream",
     "text": [
      "25\n"
     ]
    }
   ],
   "source": [
    "# Potenciação (**)\n",
    "potencia = 5 ** 2\n",
    "print(potencia)"
   ]
  },
  {
   "cell_type": "markdown",
   "metadata": {},
   "source": [
    "## 2.2 - Operadores de comparação"
   ]
  },
  {
   "cell_type": "code",
   "execution_count": 11,
   "metadata": {},
   "outputs": [
    {
     "data": {
      "text/plain": [
       "'\\nOs operadores de comparação em Python permitem verificar se duas expressões são\\niguais, diferentes, maiores, menores, etc. São ferramentas essenciais para tomar\\ndecisões e realizar comparações em seus programas. Retornam com resultado\\nverdadeiro (True) ou Falso (False) (tipo bool)\\n'"
      ]
     },
     "execution_count": 11,
     "metadata": {},
     "output_type": "execute_result"
    }
   ],
   "source": [
    "'''\n",
    "Os operadores de comparação em Python permitem verificar se duas expressões são\n",
    "iguais, diferentes, maiores, menores, etc. São ferramentas essenciais para tomar\n",
    "decisões e realizar comparações em seus programas. Retornam com resultado\n",
    "verdadeiro (True) ou Falso (False) (tipo bool)\n",
    "'''"
   ]
  },
  {
   "cell_type": "code",
   "execution_count": 12,
   "metadata": {},
   "outputs": [
    {
     "name": "stdout",
     "output_type": "stream",
     "text": [
      "False\n"
     ]
    }
   ],
   "source": [
    "# Operador de igualdade (==)\n",
    "igualdade = 3 == 4\n",
    "print(igualdade)"
   ]
  },
  {
   "cell_type": "code",
   "execution_count": 13,
   "metadata": {},
   "outputs": [
    {
     "name": "stdout",
     "output_type": "stream",
     "text": [
      "True\n"
     ]
    }
   ],
   "source": [
    "# Operador de diferença (!=)\n",
    "diferente = 3 != 4\n",
    "print(diferente)"
   ]
  },
  {
   "cell_type": "code",
   "execution_count": 14,
   "metadata": {},
   "outputs": [
    {
     "name": "stdout",
     "output_type": "stream",
     "text": [
      "False\n"
     ]
    }
   ],
   "source": [
    "# Operador maior que (>)\n",
    "maior = 3 > 4\n",
    "print(maior)"
   ]
  },
  {
   "cell_type": "code",
   "execution_count": 15,
   "metadata": {},
   "outputs": [
    {
     "name": "stdout",
     "output_type": "stream",
     "text": [
      "True\n"
     ]
    }
   ],
   "source": [
    "# Operador menor que (<)\n",
    "menor = 3 < 4\n",
    "print(menor)"
   ]
  },
  {
   "cell_type": "code",
   "execution_count": 16,
   "metadata": {},
   "outputs": [
    {
     "name": "stdout",
     "output_type": "stream",
     "text": [
      "True\n"
     ]
    }
   ],
   "source": [
    "# Operador maior ou igual a (>=)\n",
    "maior_igual = 4 >= 4\n",
    "print(maior_igual)"
   ]
  },
  {
   "cell_type": "code",
   "execution_count": 17,
   "metadata": {},
   "outputs": [
    {
     "name": "stdout",
     "output_type": "stream",
     "text": [
      "True\n"
     ]
    }
   ],
   "source": [
    "# Operador menor ou igual a (<=)\n",
    "menor_igual = 4 <= 4\n",
    "print(menor_igual)"
   ]
  },
  {
   "cell_type": "code",
   "execution_count": 18,
   "metadata": {},
   "outputs": [
    {
     "name": "stdout",
     "output_type": "stream",
     "text": [
      "False\n",
      "True\n"
     ]
    }
   ],
   "source": [
    "# Operador de identidade (is)\n",
    "a = 7\n",
    "b = 7.0\n",
    "print(a is b)\n",
    "print(a == b)"
   ]
  },
  {
   "cell_type": "code",
   "execution_count": 19,
   "metadata": {},
   "outputs": [
    {
     "name": "stdout",
     "output_type": "stream",
     "text": [
      "True\n",
      "False\n"
     ]
    }
   ],
   "source": [
    "# Operador de identidade (is not)\n",
    "a = 7\n",
    "b = 7.0\n",
    "print(a is not b)\n",
    "print(a != b)"
   ]
  },
  {
   "cell_type": "markdown",
   "metadata": {},
   "source": [
    "## 2.3 - Operadores de Associação (in e not in)"
   ]
  },
  {
   "cell_type": "code",
   "execution_count": 20,
   "metadata": {},
   "outputs": [
    {
     "data": {
      "text/plain": [
       "'\\nOs operadores de associação in e not in em Python permitem verificar se um\\nelemento está presente ou não em uma coleção, como listas, tuplas, dicionários e\\nstrings. São ferramentas úteis para filtrar dados e realizar comparações em seus\\nprogramas. Assim como os aoperadores de comparação eles retornam\\nVerdadeiro (True) ou Falso (False)\\n'"
      ]
     },
     "execution_count": 20,
     "metadata": {},
     "output_type": "execute_result"
    }
   ],
   "source": [
    "'''\n",
    "Os operadores de associação in e not in em Python permitem verificar se um\n",
    "elemento está presente ou não em uma coleção, como listas, tuplas, dicionários e\n",
    "strings. São ferramentas úteis para filtrar dados e realizar comparações em seus\n",
    "programas. Assim como os aoperadores de comparação eles retornam\n",
    "Verdadeiro (True) ou Falso (False)\n",
    "'''"
   ]
  },
  {
   "cell_type": "code",
   "execution_count": 21,
   "metadata": {},
   "outputs": [
    {
     "name": "stdout",
     "output_type": "stream",
     "text": [
      "True\n"
     ]
    }
   ],
   "source": [
    "# Operador in\n",
    "nome = 'Douglas'\n",
    "print('D' in nome)"
   ]
  },
  {
   "cell_type": "code",
   "execution_count": 22,
   "metadata": {},
   "outputs": [
    {
     "name": "stdout",
     "output_type": "stream",
     "text": [
      "True\n"
     ]
    }
   ],
   "source": [
    "# Operador not in\n",
    "nome = 'Douglas'\n",
    "print('d' not in nome)"
   ]
  },
  {
   "cell_type": "markdown",
   "metadata": {},
   "source": [
    "## 2.4 - Operadores Lógicos "
   ]
  },
  {
   "cell_type": "code",
   "execution_count": 23,
   "metadata": {},
   "outputs": [
    {
     "data": {
      "text/plain": [
       "'\\nOs operadores lógicos em Python permitem combinar expressões booleanas\\n(True ou False) para formar novas expressões booleanas. São ferramentas\\nessenciais para tomar decisões e realizar comparações complexas em seus\\nprogramas. São eles:\\n\\nE (and): Retorna True se ambas as expressões forem True.\\nExemplo: x > 0 and y < 10.\\n\\nOu (or): Retorna True se pelo menos uma das expressões for True.\\nExemplo: x == 0 or y == 10.\\n\\nNão (not): Inverte o valor da expressão.\\nExemplo: not (x > 0).\\n'"
      ]
     },
     "execution_count": 23,
     "metadata": {},
     "output_type": "execute_result"
    }
   ],
   "source": [
    "'''\n",
    "Os operadores lógicos em Python permitem combinar expressões booleanas\n",
    "(True ou False) para formar novas expressões booleanas. São ferramentas\n",
    "essenciais para tomar decisões e realizar comparações complexas em seus\n",
    "programas. São eles:\n",
    "\n",
    "E (and): Retorna True se ambas as expressões forem True.\n",
    "Exemplo: x > 0 and y < 10.\n",
    "\n",
    "Ou (or): Retorna True se pelo menos uma das expressões for True.\n",
    "Exemplo: x == 0 or y == 10.\n",
    "\n",
    "Não (not): Inverte o valor da expressão.\n",
    "Exemplo: not (x > 0).\n",
    "'''"
   ]
  },
  {
   "cell_type": "code",
   "execution_count": 24,
   "metadata": {},
   "outputs": [
    {
     "name": "stdout",
     "output_type": "stream",
     "text": [
      "True\n",
      "False\n"
     ]
    }
   ],
   "source": [
    "# Operador AND retorna verdadeiro se todas as condições forem verdadeiras\n",
    "a = 3\n",
    "b = 4\n",
    "c = 5\n",
    "print(a < b and b < c)\n",
    "print(a < b and b > c)"
   ]
  },
  {
   "cell_type": "code",
   "execution_count": 25,
   "metadata": {},
   "outputs": [
    {
     "name": "stdout",
     "output_type": "stream",
     "text": [
      "True\n",
      "True\n",
      "False\n"
     ]
    }
   ],
   "source": [
    "# Operador OR retorna verdadeiro se pelo menos uma das condições for verdadeira\n",
    "a = 3\n",
    "b = 4\n",
    "c = 5\n",
    "print(a < b or b < c) # verdadeiro\n",
    "print(a < b or b > c) # verdadiro\n",
    "print(a > b or a > c) # Falso"
   ]
  },
  {
   "cell_type": "code",
   "execution_count": 26,
   "metadata": {},
   "outputs": [
    {
     "name": "stdout",
     "output_type": "stream",
     "text": [
      "True\n",
      "False\n"
     ]
    }
   ],
   "source": [
    "# Operador not (inverte o resulta de verdadeiro para falso e de falso para verdadeiro)\n",
    "a = 3\n",
    "b = 4\n",
    "c = 5\n",
    "print(not(a > b))\n",
    "print(not(a < b))"
   ]
  },
  {
   "cell_type": "markdown",
   "metadata": {},
   "source": [
    "# 3 - Strings"
   ]
  },
  {
   "cell_type": "markdown",
   "metadata": {},
   "source": [
    "## 3.1 - Formatação de Strings (f-strings)"
   ]
  },
  {
   "cell_type": "code",
   "execution_count": 27,
   "metadata": {},
   "outputs": [
    {
     "data": {
      "text/plain": [
       "'\\nAs f-strings em Python são uma maneira concisa e elegante de formatar strings.\\nElas permitem incorporar expressões Python diretamente dentro de strings,\\ntornando o código mais legível e fácil de manter.\\n\\nComo usar f-strings:\\n\\nPara usar f-strings, basta prefixar uma string literal com a letra \"f\".\\nDentro da string, você pode usar expressões Python entre chaves \"{}\":\\n'"
      ]
     },
     "execution_count": 27,
     "metadata": {},
     "output_type": "execute_result"
    }
   ],
   "source": [
    "'''\n",
    "As f-strings em Python são uma maneira concisa e elegante de formatar strings.\n",
    "Elas permitem incorporar expressões Python diretamente dentro de strings,\n",
    "tornando o código mais legível e fácil de manter.\n",
    "\n",
    "Como usar f-strings:\n",
    "\n",
    "Para usar f-strings, basta prefixar uma string literal com a letra \"f\".\n",
    "Dentro da string, você pode usar expressões Python entre chaves \"{}\":\n",
    "'''"
   ]
  },
  {
   "cell_type": "code",
   "execution_count": 28,
   "metadata": {},
   "outputs": [
    {
     "name": "stdout",
     "output_type": "stream",
     "text": [
      "O nome do cliente é Deivid, e ele tem 25 anos de idade!\n"
     ]
    }
   ],
   "source": [
    "cliente = 'Deivid'\n",
    "idade = 25\n",
    "print(f'O nome do cliente é {cliente}, e ele tem {idade} anos de idade!')"
   ]
  },
  {
   "cell_type": "code",
   "execution_count": 29,
   "metadata": {},
   "outputs": [
    {
     "name": "stdout",
     "output_type": "stream",
     "text": [
      "0.6666666666666666\n",
      "A taxa é 0.67\n"
     ]
    }
   ],
   "source": [
    "taxa = 2/3\n",
    "print(taxa)\n",
    "print(f'A taxa é {taxa:.2f}')"
   ]
  },
  {
   "cell_type": "markdown",
   "metadata": {},
   "source": [
    "## 3.2 Entrada definida pelo usuário (função input)"
   ]
  },
  {
   "cell_type": "code",
   "execution_count": 30,
   "metadata": {},
   "outputs": [
    {
     "data": {
      "text/plain": [
       "'\\nA função input() em Python permite que você obtenha entrada do usuário durante a\\nexecução do programa. É uma ferramenta essencial para interagir com o usuário e\\ncoletar dados para processamento.\\n\\nComo usar a função input():\\n\\nA função input() é simples de usar. Basta fornecer uma mensagem entre parênteses\\npara instruir o usuário sobre o que digitar:\\n'"
      ]
     },
     "execution_count": 30,
     "metadata": {},
     "output_type": "execute_result"
    }
   ],
   "source": [
    "'''\n",
    "A função input() em Python permite que você obtenha entrada do usuário durante a\n",
    "execução do programa. É uma ferramenta essencial para interagir com o usuário e\n",
    "coletar dados para processamento.\n",
    "\n",
    "Como usar a função input():\n",
    "\n",
    "A função input() é simples de usar. Basta fornecer uma mensagem entre parênteses\n",
    "para instruir o usuário sobre o que digitar:\n",
    "'''"
   ]
  },
  {
   "cell_type": "code",
   "execution_count": 31,
   "metadata": {},
   "outputs": [],
   "source": [
    "nome = input('Informe seu primeiro nome: ')\n",
    "print(f'Olá, {nome}!')"
   ]
  },
  {
   "cell_type": "code",
   "execution_count": null,
   "metadata": {},
   "outputs": [],
   "source": [
    "nome = input('Informe o seu primeiro nome: ')\n",
    "massa = float(input('Informe seu peso em kg: '))\n",
    "altura = float(input('Informe sua altura em metros na forma decimal: '))\n",
    "imc = massa / (altura ** 2)\n",
    "print(f'Olá {nome}! Seu IMC é {imc:.2f}')"
   ]
  },
  {
   "cell_type": "markdown",
   "metadata": {},
   "source": [
    "## 3.3 - Fatiamento de Strings"
   ]
  },
  {
   "cell_type": "code",
   "execution_count": null,
   "metadata": {},
   "outputs": [],
   "source": [
    "'''\n",
    "O fatiamento de strings em Python permite extrair partes específicas de uma\n",
    "string. É uma técnica poderosa para manipular strings e obter sub-strings de\n",
    "interesse.\n",
    "\n",
    "Como funciona o fatiamento:\n",
    "\n",
    "Para fatiar uma string, você usa colchetes [] com um ou mais índices.\n",
    "Os índices representam a posição dos caracteres na string, começando do zero.\n",
    "\n",
    "Exemplos:\n",
    "\n",
    "string[0] - Retorna o primeiro caractere da string.\n",
    "string[-1] - Retorna o último caractere da string.\n",
    "string[0:2] - Retorna os dois primeiros caracteres da string.\n",
    "string[2:] - Retorna todos os caracteres da string a partir do terceiro.\n",
    "string[:-2] - Retorna todos os caracteres da string até o penúltimo.\n",
    "string[::2] - Retorna todos os caracteres da string, pulando um a cada vez.\n",
    "\n",
    "Operadores de fatiamento:\n",
    "\n",
    ": - Seleciona um intervalo de caracteres.\n",
    ", - Separa os índices de início e fim.\n",
    "- - Indica contagem regressiva.\n",
    "Dicas e Truques:\n",
    "\n",
    "Utilize o fatiamento para extrair partes específicas de uma string.\n",
    "Combine operadores de fatiamento para obter sub-strings complexas.\n",
    "Utilize a função len() para obter o tamanho da string.\n",
    "Exemplos:\n",
    "\n",
    "Extrair o nome de uma string completa.\n",
    "Obter a primeira palavra de uma frase.\n",
    "Inverter a ordem dos caracteres de uma string.\n",
    "Remover espaços em branco de uma string.\n",
    "\n",
    "O fatiamento de strings é uma técnica essencial para manipular strings em Python\n",
    ". Compreender como usá-la e os operadores de fatiamento disponíveis ajudará\n",
    "você a escrever programas mais eficientes e robustos.\n",
    "'''\n",
    "# 0    1   2   3   4   5  6  7  8  9 10 11 12 13 (índice)\n",
    "# -14 -13 -12 -11 -10 -9 -8 -7 -6 -5 -4 -3 -2 -1 (índice reverso)\n",
    "# 1º 2º 3º 4º 5º 6º 7º 8º 9º 10º 11º 12º 13º 14º (ordinal)\n",
    "# d  o  u  g  @  g  m  a  i   l   .   c   o   m\n",
    "email = 'doug@gmail.com'\n",
    "# encontrando um caracter pelo índice\n",
    "# Exemplo: qual é o quinto caracter dessa string?\n",
    "print(email[4])\n",
    "print(f'O quinto caracter dessa string é: {email[4]}')\n",
    "# Exemplo: qual é o último caracter dessa string?\n",
    "print(f'O último caracter dessa string é: {email[13]}')\n",
    "# Exemplo: Quais são os caracteres que vem depois do 2º caracter (excluindo o 2º)\n",
    "print(f'A sequência caracteres dessa string após o segundo é: {email[2:]}')\n",
    "# Exemplo: Quais são todos os caracteres dessa string?\n",
    "print(f'A sequência todos os caracteres dessa string é: {email[:]}')\n",
    "# Exemplo: buscar e imprimir todos os caracteres até o caracter de índice 4 (todos os caracteres antes do @ até o @ incluindo o @)\n",
    "print(f'A sequência caracteres dessa string até o índice 4 é: {email[0:5]}')\n",
    "# Exemplo como acessar o último caracter da lista sem contar o tamaho dela (sem usar a função len())?\n",
    "print(f'O último caracter dessa string é: {email[-1]}')\n",
    "# Exemplo: como acessar todos os valores de uma sequência exibindo sempre um e ocultando o seguinte, ou seja exibindo de 2 em 2\n",
    "print(email[::2])"
   ]
  },
  {
   "cell_type": "code",
   "execution_count": null,
   "metadata": {},
   "outputs": [],
   "source": [
    "# Convertendo outros tipos em tipo str\n",
    "cpf = 12345678910\n",
    "print(type(cpf))\n",
    "cpf = str(cpf)\n",
    "print(type(cpf))"
   ]
  },
  {
   "cell_type": "code",
   "execution_count": null,
   "metadata": {},
   "outputs": [],
   "source": [
    "# Operador IN\n",
    "'''\n",
    "O operador IN verifica se um caracter está em um string e retorna\n",
    "verdadeiro (TRUE) ou falso (FALSE)\n",
    "'''\n",
    "nome = 'Douglas'\n",
    "'D' in nome"
   ]
  },
  {
   "cell_type": "code",
   "execution_count": null,
   "metadata": {},
   "outputs": [],
   "source": [
    "# Operador NOT IN\n",
    "'''\n",
    "O operador NOT IN verifica se um caracter não está em um string e retorna\n",
    "verdadeiro (TRUE) ou falso (FALSE), ele é o contrário do operador IN\n",
    "'''\n",
    "nome = 'Douglas'\n",
    "print('uo' in nome)\n",
    "nome = 'Douglas'\n",
    "print('uo' not in nome)"
   ]
  },
  {
   "cell_type": "code",
   "execution_count": null,
   "metadata": {},
   "outputs": [],
   "source": [
    "'''\n",
    "Contando a quantidade de caracteres em uma string (função len)\n",
    "'''\n",
    "nome = 'Douglas'\n",
    "print(f'{nome} tem {len(nome)} caracteres')"
   ]
  },
  {
   "cell_type": "code",
   "execution_count": null,
   "metadata": {},
   "outputs": [],
   "source": [
    "# método capitalize\n",
    "'''\n",
    "Este método é aplicado quando queremos deixar o primeiro caracter\n",
    "de uma string como maiúsculo\n",
    "'''\n",
    "nome = 'douglas'\n",
    "print(nome)\n",
    "nome = nome.capitalize() # este método funciona em tempo de execução, se eu quiser deixar permanente a mudança é necessário sobreescrever a variável\n",
    "print(nome)"
   ]
  },
  {
   "cell_type": "code",
   "execution_count": null,
   "metadata": {},
   "outputs": [],
   "source": [
    "'''\n",
    "Imagine que sua string é um nome completo e você deseja\n",
    "deixar a primeira letra de cada nome como maiúscula\n",
    "'''\n",
    "nome = 'douglas almeida ribeiro'\n",
    "print(nome)\n",
    "nome = nome.capitalize()\n",
    "print(nome)\n",
    "nome = nome.title()\n",
    "print(nome)"
   ]
  },
  {
   "cell_type": "code",
   "execution_count": null,
   "metadata": {},
   "outputs": [],
   "source": [
    "'''\n",
    "Imagine que você deseja deixar todos os caracteres de uma string\n",
    "como maiúsculos\n",
    "'''\n",
    "nome = 'douglas almeida ribeiro'\n",
    "print(nome)\n",
    "nome = nome.upper()\n",
    "print(nome)"
   ]
  },
  {
   "cell_type": "code",
   "execution_count": null,
   "metadata": {},
   "outputs": [],
   "source": [
    "'''\n",
    "Imagine que você deseja dixar todas as letras de uma string no formato\n",
    "minúsculo\n",
    "'''\n",
    "nome = 'DOUGLAS DE ALMEIDA RIBEIRO'\n",
    "nome = nome.lower()\n",
    "print(nome)"
   ]
  },
  {
   "cell_type": "code",
   "execution_count": null,
   "metadata": {},
   "outputs": [],
   "source": [
    "'''\n",
    "Imagine que você deseja contar quantas vezes um determinado caracter aparece\n",
    "em uma string\n",
    "'''\n",
    "email = 'doug@gmail.com'\n",
    "email.count('o')"
   ]
  },
  {
   "cell_type": "code",
   "execution_count": null,
   "metadata": {},
   "outputs": [],
   "source": [
    "'''\n",
    "Imagine que você deseja saber se uma string termina com um carater ou sequencia\n",
    "de caracteres específicos e retorna com resposta verdadeiro ou falso\n",
    "'''\n",
    "email = 'doug@gmail.com'\n",
    "email.endswith('com')"
   ]
  },
  {
   "cell_type": "code",
   "execution_count": null,
   "metadata": {},
   "outputs": [],
   "source": [
    "'''\n",
    "Imagine que você deseja saber se uma string começa com um ou uma sequência\n",
    "específica de caracateres\n",
    "'''\n",
    "email = 'doug@gmail.com'\n",
    "email.startswith('doug')"
   ]
  },
  {
   "cell_type": "code",
   "execution_count": null,
   "metadata": {},
   "outputs": [],
   "source": [
    "'''\n",
    "Imagine que você deseja vericar se o conteúdo de uma variável\n",
    "é ou não numérico. Este comando retornará verdadeiro ou falso\n",
    "conforme o caso\n",
    "'''\n",
    "cpf = '12345678910'\n",
    "print(cpf.isnumeric())\n",
    "cpf2 = '1umdoistresquatro'\n",
    "print(cpf2.isnumeric())"
   ]
  },
  {
   "cell_type": "code",
   "execution_count": null,
   "metadata": {},
   "outputs": [],
   "source": [
    "'''\n",
    "Imagine que você deseja vericar se o conteúdo de uma variável\n",
    "é não numérico. Este comando retornará verdadeiro ou falso\n",
    "conforme o caso\n",
    "'''\n",
    "cpf = '12345678910'\n",
    "print(cpf.isalpha())\n",
    "cpf2 = 'umdoistresquatro'\n",
    "print(cpf2.isalpha())"
   ]
  },
  {
   "cell_type": "code",
   "execution_count": null,
   "metadata": {},
   "outputs": [],
   "source": [
    "'''\n",
    "Imagine que você deseja vericar se o conteúdo de uma variável\n",
    "é composto por letras e números. Este comando retornará verdadeiro ou falso\n",
    "conforme o caso\n",
    "'''\n",
    "cpf3 = '1dois3quatro'\n",
    "cpf3.isalnum()"
   ]
  },
  {
   "cell_type": "code",
   "execution_count": null,
   "metadata": {},
   "outputs": [],
   "source": [
    "'''\n",
    "Imagine que você deseja eliminar espaçõs indesejados no começo e/ou no\n",
    "final de uma string\n",
    "'''\n",
    "funcionario = ' Douglas'\n",
    "print(funcionario)\n",
    "print(len(funcionario))\n",
    "funcionario = funcionario.strip()\n",
    "print(funcionario)\n",
    "print(len(funcionario))"
   ]
  },
  {
   "cell_type": "code",
   "execution_count": null,
   "metadata": {},
   "outputs": [],
   "source": [
    "'''\n",
    "Imagine que você deseja substituir um determinado caractere por outro\n",
    "'''\n",
    "preco = 'R$ 10.50'\n",
    "print(preco)\n",
    "preco = preco.replace('.',',')\n",
    "print(preco)"
   ]
  },
  {
   "cell_type": "code",
   "execution_count": null,
   "metadata": {},
   "outputs": [],
   "source": [
    "'''\n",
    "Imagine que você deseja saber o índice de um determiando\n",
    "caractere dentro de uma string\n",
    "'''\n",
    "email = 'doug@gmail.com'\n",
    "email.find('@')"
   ]
  },
  {
   "cell_type": "code",
   "execution_count": null,
   "metadata": {},
   "outputs": [],
   "source": [
    "'''\n",
    "imagine que você precisa dividir uma string em duas ou mais substrings\n",
    "'''\n",
    "nome_completo = 'Douglas Ribeiro'\n",
    "print(nome_completo)\n",
    "novo_nome = nome_completo.split()\n",
    "print(novo_nome)\n",
    "print(type(nome_completo))\n",
    "print(type(novo_nome))"
   ]
  },
  {
   "cell_type": "code",
   "execution_count": null,
   "metadata": {},
   "outputs": [],
   "source": [
    "'''\n",
    "Exemplo adicional:\n",
    "'''\n",
    "email = 'doug@gmail.com'\n",
    "lista = email.split('@')\n",
    "print(lista)"
   ]
  },
  {
   "cell_type": "markdown",
   "metadata": {},
   "source": [
    "# 4 - Estruturas de Dados"
   ]
  },
  {
   "cell_type": "markdown",
   "metadata": {},
   "source": [
    "## 4.1 - Listas"
   ]
  },
  {
   "cell_type": "code",
   "execution_count": 1,
   "metadata": {},
   "outputs": [
    {
     "data": {
      "text/plain": [
       "'\\nQuais dados estão presentes no intervalo que vai do 1º ao 3º elementos da lista?\\n'"
      ]
     },
     "execution_count": 1,
     "metadata": {},
     "output_type": "execute_result"
    }
   ],
   "source": [
    "# Uma lista é um objeto que pode ser vazio, ou ter um ou mais itens\n",
    "lista = ['dado1', 'dado2','dado3','dado4', 'dado_n']\n",
    "#índices    0         1       2       3       4       ou:\n",
    "#          -5        -4      -3      -2      -1\n",
    "print(f'O quinto elemento da lista é {lista[3]}')\n",
    "print(f'O quinto elemento da lista é {lista[1:4]}')"
   ]
  },
  {
   "cell_type": "code",
   "execution_count": null,
   "metadata": {},
   "outputs": [],
   "source": [
    "dados = input('Informe os nomes (seprados por espaços) que deseja cadastrar ')\n",
    "nomes = dados.split()\n",
    "print(nomes)\n",
    "print(f'O 6º nome da lista é {nomes[5]}')"
   ]
  },
  {
   "cell_type": "code",
   "execution_count": null,
   "metadata": {},
   "outputs": [],
   "source": [
    "# função len (Contagem do número de dados da lista)\n",
    "produtos = ['monitor', 'celular', 'notebook', 'desktop', 'impressora', 'teclado']\n",
    "precos = [600, 2000, 5000, 3000, 1500, 200]\n",
    "vendas = [300, 500, 100, 700, 500, 1000]\n",
    "estoque_ini = [5000] * 6\n",
    "print(produtos)\n",
    "print(precos)\n",
    "print(vendas)\n",
    "print(estoque_ini)"
   ]
  },
  {
   "cell_type": "code",
   "execution_count": null,
   "metadata": {},
   "outputs": [],
   "source": [
    "'''\n",
    "A função len também pode ser usada em listas, para contar\n",
    "quantos elementos existem na lista\n",
    "'''\n",
    "produtos = ['monitor', 'celular', 'notebook', 'desktop', 'impressora', 'teclado']\n",
    "print(produtos)\n",
    "print(len(produtos))"
   ]
  },
  {
   "cell_type": "code",
   "execution_count": null,
   "metadata": {},
   "outputs": [],
   "source": [
    "'''\n",
    "Inserindo valores em uma lista pelo método append\n",
    "'''\n",
    "descarte = []\n",
    "print(descarte)\n",
    "descarte.append('bateria') # por padrão o método append vai inserir o elemento sempre na última posição, mantendo os demais que eventualmente já existam\n",
    "print(descarte)\n",
    "descarte.append('mouse')\n",
    "print(descarte)\n",
    "descarte.append('pizza')\n",
    "print(descarte)\n",
    "descarte.append('adaptador')\n",
    "print(descarte)"
   ]
  },
  {
   "cell_type": "code",
   "execution_count": null,
   "metadata": {},
   "outputs": [],
   "source": [
    "'''\n",
    "Imagine que você deseja inserir um novo elemento na lista (webcam) e esse\n",
    "novo elemento fique armazenado em uma posição específica por exemplo a primeira\n",
    "'''\n",
    "descarte.insert(0,'webcam')\n",
    "print(descarte)"
   ]
  },
  {
   "cell_type": "code",
   "execution_count": null,
   "metadata": {},
   "outputs": [],
   "source": [
    "'''\n",
    "Imagine que você deseja inserir um novo elemento na lista (webcam) e esse\n",
    "novo elemento fique armazenado em uma posição específica por exemplo a primeira,\n",
    "no entanto, substituindo quem estiver na primeira posição por exemplo\n",
    "'''\n",
    "descarte = ['bateria', 'mouse', 'pizza', 'adaptador']\n",
    "print(descarte)\n",
    "descarte[0] = 'webcam'\n",
    "print(descarte)\n",
    "# método de atribuição direta"
   ]
  },
  {
   "cell_type": "code",
   "execution_count": null,
   "metadata": {},
   "outputs": [],
   "source": [
    "'''\n",
    "Imagine que você deseja excluir um elemento tendo como\n",
    "referência o seu índice\n",
    "'''\n",
    "descarte = ['bateria', 'mouse', 'pizza', 'adaptador']\n",
    "print(descarte)\n",
    "descarte.pop(1)\n",
    "print(descarte)"
   ]
  },
  {
   "cell_type": "code",
   "execution_count": null,
   "metadata": {},
   "outputs": [],
   "source": [
    "'''\n",
    "Imagine que você deseja excluir um elemento tendo como\n",
    "referência o seu nome\n",
    "'''\n",
    "descarte = ['bateria', 'mouse', 'pizza', 'adaptador']\n",
    "print(descarte)\n",
    "descarte.remove('mouse')\n",
    "print(descarte)"
   ]
  },
  {
   "cell_type": "code",
   "execution_count": null,
   "metadata": {},
   "outputs": [],
   "source": [
    "'''\n",
    "Encontrando a posição de um determinado dado em uma\n",
    "lista pelo método index\n",
    "'''\n",
    "# função len (Contagem do número de dados da lista)\n",
    "produtos = ['monitor', 'celular', 'notebook', 'desktop', 'impressora', 'teclado']\n",
    "precos = [600, 2000, 5000, 3000, 1500, 200]\n",
    "vendas = [300, 500, 100, 700, 500, 1000]\n",
    "estoque_ini = [5000]*6\n",
    "'''\n",
    "Como encontrar o índice de um determinado dado em uma lista\n",
    "'''\n",
    "i = produtos.index('impressora')\n",
    "print(i)"
   ]
  },
  {
   "cell_type": "code",
   "execution_count": null,
   "metadata": {},
   "outputs": [],
   "source": [
    "# operador in\n",
    "'''\n",
    "Ele percorrerá a lista e verificará se o dado procurado\n",
    "existe ou não na lista e retornará True se existir ou False\n",
    "se não existir\n",
    "'''\n",
    "# operador not in\n",
    "'''\n",
    "Ele percorrerá a lista e verificará se o dado procurado\n",
    "não existe na lista e retornará True se não existir ou False\n",
    "se existir\n",
    "'''\n",
    "descarte = ['bateria', 'mouse', 'pizza', 'adaptador']\n",
    "'''\n",
    "Nosso objetivo é procurar se mouse existe ou não na lista\n",
    "'''\n",
    "'abacaxi' not in descarte"
   ]
  },
  {
   "cell_type": "code",
   "execution_count": null,
   "metadata": {},
   "outputs": [],
   "source": [
    "produtos.append(input('informe o produto que deseja cadastrar '))\n",
    "print(produtos)"
   ]
  },
  {
   "cell_type": "markdown",
   "metadata": {},
   "source": [
    "## 4.2 - Tuplas"
   ]
  },
  {
   "cell_type": "code",
   "execution_count": null,
   "metadata": {},
   "outputs": [],
   "source": [
    "# Criando tuplas\n",
    "nomes = ('Douglas', 'Daniela', 'Pedro', 'Maria')\n",
    "idades = (47, 8, 68, 67)\n",
    "alturas = (1.85, 1.32, 1.75, 1.69)\n",
    "tupla_vazia = ()\n",
    "print(type(nomes))\n",
    "print(nomes)"
   ]
  },
  {
   "cell_type": "code",
   "execution_count": null,
   "metadata": {},
   "outputs": [],
   "source": [
    "# Fatiando tuplas\n",
    "print(nomes[0])\n",
    "print(idades[1:3])\n",
    "print(alturas[-1])"
   ]
  },
  {
   "cell_type": "code",
   "execution_count": null,
   "metadata": {},
   "outputs": [],
   "source": [
    "# convertendo objetos em tuplas e vice-versa\n",
    "lista = [1,2,3]\n",
    "tupla = tuple(lista)\n",
    "nova_lista = list(tupla)\n",
    "print(lista)\n",
    "print(tupla)\n",
    "print(nova_lista)"
   ]
  },
  {
   "cell_type": "code",
   "execution_count": null,
   "metadata": {},
   "outputs": [],
   "source": [
    "# verificando a existência de um elemento em uma tupla\n",
    "print(4 in tupla)\n",
    "print(4 not in tupla)"
   ]
  },
  {
   "cell_type": "markdown",
   "metadata": {},
   "source": [
    "## 4.3 - Dicionários"
   ]
  },
  {
   "cell_type": "code",
   "execution_count": null,
   "metadata": {},
   "outputs": [],
   "source": [
    "# Construindo um dicionário\n",
    "carro = {'marca':'vw','modelo':'gol','ano':'2014','motor':'1.0'}\n",
    "# {chave1 : valor1, chave : valor2}\n",
    "type(carro)"
   ]
  },
  {
   "cell_type": "code",
   "execution_count": null,
   "metadata": {},
   "outputs": [],
   "source": [
    "# Inserindo uma chave um valor em um dicionário existente\n",
    "carro['cor'] = 'azul'"
   ]
  },
  {
   "cell_type": "code",
   "execution_count": null,
   "metadata": {},
   "outputs": [],
   "source": [
    "# Exibindo as chaves e os valores de um dicionário\n",
    "print(carro)"
   ]
  },
  {
   "cell_type": "code",
   "execution_count": null,
   "metadata": {},
   "outputs": [],
   "source": [
    "# Verificando o valor em um dicionário a partir de uma chave\n",
    "carro['cor']"
   ]
  },
  {
   "cell_type": "code",
   "execution_count": null,
   "metadata": {},
   "outputs": [],
   "source": [
    "# Verificando o valor em um dicionário a partir de uma chave\n",
    "carro.get('marca')"
   ]
  },
  {
   "cell_type": "code",
   "execution_count": null,
   "metadata": {},
   "outputs": [],
   "source": [
    "# Verificando o valor em um dicionário a partir de uma chave\n",
    "carro.get('uf')"
   ]
  },
  {
   "cell_type": "code",
   "execution_count": null,
   "metadata": {},
   "outputs": [],
   "source": [
    "# Removendo o último para de chave e valor de um dicionário\n",
    "carro.popitem()"
   ]
  },
  {
   "cell_type": "code",
   "execution_count": null,
   "metadata": {},
   "outputs": [],
   "source": [
    "# Exibindo o estado do dicionário após a remoção do último par de chave e valor\n",
    "print(carro)"
   ]
  },
  {
   "cell_type": "code",
   "execution_count": null,
   "metadata": {},
   "outputs": [],
   "source": [
    "# Excluindo um item de um dicionário\n",
    "carro.pop('marca')"
   ]
  },
  {
   "cell_type": "code",
   "execution_count": null,
   "metadata": {},
   "outputs": [],
   "source": [
    "# Excluindo um item de um dicionário\n",
    "print(carro)"
   ]
  },
  {
   "cell_type": "code",
   "execution_count": null,
   "metadata": {},
   "outputs": [],
   "source": [
    "# Limpando um dicionário\n",
    "carro.clear()"
   ]
  },
  {
   "cell_type": "code",
   "execution_count": null,
   "metadata": {},
   "outputs": [],
   "source": [
    "# Exibindo o estado do dicionário após a limpeza de todo o dicionário\n",
    "print(carro)"
   ]
  },
  {
   "cell_type": "markdown",
   "metadata": {},
   "source": [
    "## 4.3 - Sets (conjuntos)"
   ]
  },
  {
   "cell_type": "code",
   "execution_count": null,
   "metadata": {},
   "outputs": [],
   "source": [
    "# Criando conjuntos\n",
    "nomes = {'Douglas', 'Daniela', 'Pedro', 'Maria'}\n",
    "pesos = {78, 32, 86, 74}\n",
    "print(nomes)\n",
    "print(pesos)\n",
    "print(type(nomes))"
   ]
  },
  {
   "cell_type": "code",
   "execution_count": null,
   "metadata": {},
   "outputs": [],
   "source": [
    "# transformando outros objetos em conjuntos\n",
    "carros = ['gol', 'fusca', 'passat']\n",
    "transporte = set(carros)\n",
    "print(type(carros))\n",
    "print(type(transporte))"
   ]
  },
  {
   "cell_type": "code",
   "execution_count": null,
   "metadata": {},
   "outputs": [],
   "source": [
    "# impossibilidade de receber valores duplicados\n",
    "alturas = {1.85, 1.34, 1.78, 1.69, 1.34}\n",
    "print(alturas)"
   ]
  },
  {
   "cell_type": "code",
   "execution_count": null,
   "metadata": {},
   "outputs": [],
   "source": [
    "# Adição de elemento único em um conjunto\n",
    "loja_a = {'garfo', 'faca', 'caneca', 'copo'}\n",
    "loja_b = {'copo', 'caneca', 'taça', 'tigela'}\n",
    "print(loja_a)\n",
    "print(loja_b)\n",
    "loja_a.add('prato')\n",
    "loja_b.add('pote')\n",
    "print(loja_a)\n",
    "print(loja_b)"
   ]
  },
  {
   "cell_type": "code",
   "execution_count": null,
   "metadata": {},
   "outputs": [],
   "source": [
    "# Adição de mais de um elemento em um conjunto\n",
    "loja_a.update(['bule', 'chaleira'])\n",
    "print(loja_a)"
   ]
  },
  {
   "cell_type": "code",
   "execution_count": null,
   "metadata": {},
   "outputs": [],
   "source": [
    "# União de conjuntos\n",
    "loja_c = loja_a.union(loja_b)\n",
    "print(loja_c)"
   ]
  },
  {
   "cell_type": "code",
   "execution_count": null,
   "metadata": {},
   "outputs": [],
   "source": [
    "# Intersecção de conjuntos\n",
    "loja_a = {'garfo', 'faca', 'caneca', 'copo'}\n",
    "loja_b = {'copo', 'caneca', 'taça', 'tigela'}\n",
    "interseccao = loja_a.intersection(loja_b)\n",
    "print(interseccao)"
   ]
  },
  {
   "cell_type": "code",
   "execution_count": null,
   "metadata": {},
   "outputs": [],
   "source": [
    "# Verificando os elementos exclusivos na comparação de conjuntos\n",
    "loja_a = {'garfo', 'faca', 'caneca', 'copo'}\n",
    "loja_b = {'copo', 'caneca', 'taça', 'tigela'}\n",
    "only_a = loja_a.difference(loja_b)\n",
    "only_b = loja_b.difference(loja_a)\n",
    "print(only_a)\n",
    "print(only_b)"
   ]
  },
  {
   "cell_type": "code",
   "execution_count": null,
   "metadata": {},
   "outputs": [],
   "source": [
    "# Excluíndo elementos de um conjunto pelo método remove\n",
    "loja_a.remove('faca')"
   ]
  },
  {
   "cell_type": "code",
   "execution_count": null,
   "metadata": {},
   "outputs": [],
   "source": [
    "# Excluíndo elementos de um conjunto pelo método discard\n",
    "loja_a = {'garfo', 'faca', 'caneca', 'copo'}\n",
    "loja_b = {'copo', 'caneca', 'taça', 'tigela'}\n",
    "only_a = loja_a.difference(loja_b)\n",
    "only_b = loja_b.difference(loja_a)\n",
    "print(only_a)\n",
    "print(only_b)\n",
    "loja_a.discard('faca')\n",
    "print(loja_a)"
   ]
  },
  {
   "cell_type": "code",
   "execution_count": null,
   "metadata": {},
   "outputs": [],
   "source": [
    "# Excluindo todos os elementos de um conjunto\n",
    "loja_a.clear()\n",
    "print(loja_a)"
   ]
  },
  {
   "cell_type": "markdown",
   "metadata": {},
   "source": [
    "Usar apenas quando aprendermos if elif e else"
   ]
  },
  {
   "cell_type": "code",
   "execution_count": null,
   "metadata": {},
   "outputs": [],
   "source": [
    "'''\n",
    "Crie um programa para fazer uma consulta de estoque.\n",
    "O usuário do programa deve inserir o nome do produto e,\n",
    "caso ele não exista na lista, ele deve ser avisado.\n",
    "Caso exista, o programa deve dizer a quantidade de unidades\n",
    "em estoque do produto\n",
    "'''\n",
    "produtos = ['monitor', 'celular', 'notebook', 'desktop', 'impressora', 'teclado']\n",
    "precos = [600, 2000, 5000, 3000, 1500, 200]\n",
    "vendas = [300, 500, 100, 700, 500, 1000]\n",
    "estoque_ini = [5000]*6\n",
    "produto = input('Informe o produto que deseja consultar ')\n",
    "if produto not in produtos:\n",
    "  print(f'O produto {produto} não existe em nossa loja, favor consultar outro produto')\n",
    "else:\n",
    "  i = produtos.index(produto)\n",
    "  print(f'O produto {produto} tem {estoque_ini[i]} unidades')"
   ]
  },
  {
   "cell_type": "code",
   "execution_count": null,
   "metadata": {},
   "outputs": [],
   "source": [
    "'''\n",
    "Crie um programa para fazer uma consulta de estoque.\n",
    "O usuário do programa deve inserir o nome do produto e,\n",
    "caso ele não exista na lista, ele deve ser avisado.\n",
    "Caso exista, o programa deve dizer a quantidade de unidades\n",
    "em estoque do produto, seu preço e a sua quantidade vendida no último período\n",
    "'''\n",
    "'''\n",
    "Crie um programa para fazer uma consulta de estoque.\n",
    "O usuário do programa deve inserir o nome do produto e,\n",
    "caso ele não exista na lista, ele deve ser avisado.\n",
    "Caso exista, o programa deve dizer a quantidade de unidades\n",
    "em estoque do produto\n",
    "'''\n",
    "produtos = ['monitor', 'celular', 'notebook', 'desktop', 'impressora', 'teclado']\n",
    "precos = [600, 2000, 5000, 3000, 1500, 200]\n",
    "vendas = [300, 500, 100, 700, 500, 1000]\n",
    "estoque_ini = [5000]*6\n",
    "produto = input('Informe o produto que deseja consultar ')\n",
    "if produto not in produtos:\n",
    "  print(f'O produto {produto} não existe em nossa loja, favor consultar outro produto')\n",
    "else:\n",
    "  i = produtos.index(produto)\n",
    "  print(f'O produto {produto} tem {estoque_ini[i]} unidades, seu preço é R$ {precos[i]} e no último período foram vendidas {vendas[i]} unidades')"
   ]
  },
  {
   "cell_type": "markdown",
   "metadata": {},
   "source": [
    "# 5 - Estruturas de Controle de Fluxo"
   ]
  },
  {
   "cell_type": "markdown",
   "metadata": {},
   "source": [
    "## 5.1 - IF ELIF ELSE"
   ]
  },
  {
   "cell_type": "code",
   "execution_count": null,
   "metadata": {},
   "outputs": [],
   "source": [
    "'''\n",
    "if comparação for verdadeira:\n",
    "  o que deve ser feito caso o resultado da comparação do if for True\n",
    "else:\n",
    "  o que deve ser feito caso o resultado do if seja False\n",
    "'''"
   ]
  },
  {
   "cell_type": "code",
   "execution_count": null,
   "metadata": {},
   "outputs": [],
   "source": [
    "'''\n",
    "if comparação for verdadeira:\n",
    "  o que deve ser feito caso o resultado da comparação do if for True\n",
    "elif segunda comparação for verdadeira:\n",
    "  o que deve ser feito caso o resultado da 2ª comparação do if for True\n",
    "else:\n",
    "  o que deve ser feito caso o resultado do if seja False e do elif também seja\n",
    "  False\n",
    "'''"
   ]
  },
  {
   "cell_type": "code",
   "execution_count": null,
   "metadata": {},
   "outputs": [],
   "source": [
    "'''\n",
    "Imagine que você deseja pedir ao usuário que digite uma nota de 0 a 10\n",
    "e caso a nota seja maior ou igual 6 seja exibida a mensagem: Parabéns você foi\n",
    "aprovado!, caso contrário exiba: Infelizmente você não foi aprovado dessa vez!\n",
    "continue tentando.\n",
    "'''\n",
    "nota = float(input('Informe uma nota de 0 a 10: '))\n",
    "if nota >= 6: # se nota >= 6, faça alguma coisa\n",
    "  print('Parabéns você foi aprovado!') # exiba a mensagem para a condição verdadeira\n",
    "else: # se a condição anterior não for verdadeira, faça alguma coisa\n",
    "  print('Infelizmente você não foi aprovado dessa vez! continue tentando.') # exiba a mensagem para a condiça anteriro não ser verdadeira"
   ]
  },
  {
   "cell_type": "code",
   "execution_count": null,
   "metadata": {},
   "outputs": [],
   "source": [
    "'''\n",
    "Agora imagine que você tem três possibilidades:\n",
    "1ª Nota maior ou igual a 6: 'Parabéns você foi aprovado!'\n",
    "2ª Nota menor que 6, mas maior ou igual a 4: 'Você deverá fazer uma prova de\n",
    "recuperação'\n",
    "3ª Nota menor que 4:'Infelizmente você não foi aprovado dessa vez!\n",
    "continue tentando.'\n",
    "'''\n",
    "nota = float(input('Informe uma nota de 0 a 10: '))\n",
    "if nota >= 6:\n",
    "  print('Parabéns você foi aprovado!')\n",
    "elif nota >= 4:\n",
    "  print('Você deverá fazer uma prova de recuperação')\n",
    "else:\n",
    "  print('Infelizmente você não foi aprovado dessa vez! continue tentando.')"
   ]
  },
  {
   "cell_type": "code",
   "execution_count": null,
   "metadata": {},
   "outputs": [],
   "source": [
    "'''\n",
    "Agora imagine que você tem quatro possibilidades:\n",
    "1ª Nota maior ou igual a 6: 'Parabéns você foi aprovado!'\n",
    "2ª Nota menor que 6, mas maior ou igual a 4: 'Você deverá fazer uma prova de\n",
    "recuperação online'\n",
    "3ª Nota menor 4, mas maio ou igual a 2: 'Você deverá fazer uma prova de\n",
    "recuperação presencial'\n",
    "4ª Nota menor que 2:'Infelizmente você não foi aprovado dessa vez! continue\n",
    "tentando.'\n",
    "'''\n",
    "nota = float(input('Informe uma nota de 0 a 10: '))\n",
    "if nota >= 6:\n",
    "  print('Parabéns você foi aprovado!')\n",
    "elif nota >= 4:\n",
    "  print('Você deverá fazer uma prova de recuperação online')\n",
    "elif nota >= 2:\n",
    "  print('Você deverá fazer uma prova de recuperação presencial')\n",
    "else:\n",
    "  print('Infelizmente você não foi aprovado dessa vez! continue tentando.')"
   ]
  },
  {
   "cell_type": "code",
   "execution_count": null,
   "metadata": {},
   "outputs": [],
   "source": [
    "'''\n",
    "Imagine que no exemplo anterior, você deseja diferenciar a mensagem para o aluno\n",
    "que tirar nota máxima, como por exemplo escrever:\n",
    "Parabéns, você foi aprovado com nota máxima!\n",
    "'''\n",
    "nota = float(input('Informe uma nota de 0 a 10: '))\n",
    "if nota == 10:\n",
    "  print('Parabéns, você foi aprovado com nota máxima!')\n",
    "else:\n",
    "  if nota >= 6:\n",
    "    print('Parabéns você foi aprovado!')\n",
    "  elif nota >= 4:\n",
    "    print('Você deverá fazer uma prova de recuperação online')\n",
    "  elif nota >= 2:\n",
    "    print('Você deverá fazer uma prova de recuperação presencial')\n",
    "  else:\n",
    "    print('Infelizmente você não foi aprovado dessa vez! continue tentando.')"
   ]
  },
  {
   "cell_type": "code",
   "execution_count": null,
   "metadata": {},
   "outputs": [],
   "source": [
    "# Condições aninhadas\n",
    "'''\n",
    "Imagine que você deseja que um usuário digite dois números quaisquer, e na\n",
    "sequência o programa exibe o maior deles\n",
    "'''\n",
    "a = float(input('Informe um número qualquer: '))\n",
    "b = float(input('Informe outro número qualquer: '))\n",
    "if a == b:\n",
    "  print('Você informou dois números iguais!')\n",
    "else:\n",
    "  if a > b:\n",
    "    print(f'O maior número informado é chamado de \"a\" e é igual a {a}')\n",
    "  else:\n",
    "    print(f'O maior número informado é chamado de \"b\" e é igual a {b}')"
   ]
  },
  {
   "cell_type": "markdown",
   "metadata": {},
   "source": [
    "## 5.2 - Estrutura FOR"
   ]
  },
  {
   "cell_type": "code",
   "execution_count": 3,
   "metadata": {},
   "outputs": [
    {
     "name": "stdout",
     "output_type": "stream",
     "text": [
      "l\n",
      "o\n",
      "v\n",
      "e\n"
     ]
    }
   ],
   "source": [
    "palavra = 'love' # cria a variável palavra que recebe o texto love\n",
    "for letra in palavra: # declara o seguinte: para cada letra em palavra faça algo:\n",
    "  print(letra) # define o \"algo\" da linha anterior como exiba cada letra"
   ]
  },
  {
   "cell_type": "code",
   "execution_count": null,
   "metadata": {},
   "outputs": [],
   "source": [
    "lista = ['a','b','c','d'] # cria uma lista com as letras a,b,c,d\n",
    "for item in lista: # declara que para cada item encontrado na lista faça algo\n",
    "  print(item) # difine o que deve ser feito com cada item encontrado (exibí-lo)"
   ]
  },
  {
   "cell_type": "code",
   "execution_count": null,
   "metadata": {},
   "outputs": [],
   "source": [
    "tupla = (1,2,3,4) # Cria uma tupla com os números 1,2,3,4\n",
    "for numero in tupla: # declara que para cada numero encontrado seja feito algo\n",
    "  print(numero) # Define o que deve ser feito com cada número encontrado"
   ]
  },
  {
   "cell_type": "code",
   "execution_count": null,
   "metadata": {},
   "outputs": [],
   "source": [
    "for i in range(4):# declara que para cada i (índice) encontrado em uma sequencia de quatro números (começando em 0) seja feito algo\n",
    "  print(i) # exiba cada número gerado na sequência declarada anteriormente"
   ]
  },
  {
   "cell_type": "code",
   "execution_count": null,
   "metadata": {},
   "outputs": [],
   "source": [
    "'''\n",
    "crie uma estrutura que percorra uma sequência e imprima os valores dessa\n",
    "sequência baseado nos índices dessa sequência\n",
    "'''\n",
    "palavra = 'love'# cria a variável palavra que recebe o texto love\n",
    "for i in range(4):# declara que para cada i (índice) encontrado em uma sequencia de qutro números (começando em 0) seja feito algo\n",
    "  print(palavra[i]) # define que seja exibida cada letra da palavra associada a cada índice gerando na declaração for"
   ]
  },
  {
   "cell_type": "code",
   "execution_count": null,
   "metadata": {},
   "outputs": [],
   "source": [
    "palavra = 'lover'# cria a variável palavra que recebe o texto love\n",
    "for i in range(len(palavra)):# declara que para cada i (índice) encontrado em uma sequencia de n números (começando em 0) seja feito algo\n",
    "  print(palavra[i]) # define que seja exibida cada letra da palavra associada a cada índice gerando na declaração for"
   ]
  },
  {
   "cell_type": "code",
   "execution_count": null,
   "metadata": {},
   "outputs": [],
   "source": [
    "palavra = 'love' # cria a variável palavra que recebe o texto love\n",
    "for i, v in enumerate(palavra):# declara que para cada i (índice) encontrado em uma sequencia de n números (começando em 0) seja feito algo\n",
    "  print(i,v) # define que seja exibida cada letra da palavra associada a cada índice gerando na declaração for"
   ]
  },
  {
   "cell_type": "code",
   "execution_count": null,
   "metadata": {},
   "outputs": [],
   "source": [
    "cidade = 'botucatu' # cria a variável cidade que recebe o texto botucatu\n",
    "for i in range(1,8,2):# declara que para cada i (índice) encontrado em uma sequencia de n números (começando em 1, parando em 8 e de 2 em 2) seja feito algo\n",
    "  print(cidade[i]) # define que seja exibida cada letra da palavra associada a cada índice gerando na declaração for"
   ]
  },
  {
   "cell_type": "markdown",
   "metadata": {},
   "source": [
    "## 5.2.1 - Método sum"
   ]
  },
  {
   "cell_type": "code",
   "execution_count": null,
   "metadata": {},
   "outputs": [],
   "source": [
    "# método sum\n",
    "'''\n",
    "soma os valores de uma sequência, caso ela seja numérica\n",
    "exemplo:\n",
    "'''\n",
    "numeros = [1,2,3,4]\n",
    "print(sum(numeros))"
   ]
  },
  {
   "cell_type": "code",
   "execution_count": null,
   "metadata": {},
   "outputs": [],
   "source": [
    "'''\n",
    "Crie um programa que receba do usuário n notas (1 ou mais notas), calcule a\n",
    "média aritmética delas e caso a média seja maior ou igual a 6 exiba a mensagem\n",
    "Parabéns, você foi aprovado, caso a média seja menor que 6 mas maior ou igual a\n",
    "4 exiba a mensagem você está em recuperação, caso a média seja menor que 4 exiba\n",
    "a mensagem  Infelizmente você não foi aprovado e caso a média seja igual a\n",
    "10 exiba a mensagem Parabéns você foi aprovado com nota máxima.\n",
    " Obd.: as n notas digitadas pelo usuário deverão ser informadas em um único input\n",
    " separadas por espaços.\n",
    "'''\n",
    "dados = input('Informe os valores das notas separadas por espaços: ')\n",
    "notas = dados.split()\n",
    "for i in range(len(notas)):\n",
    "  notas[i] = float(notas[i])\n",
    "media = sum(notas)/len(notas)\n",
    "if media == 10:\n",
    "  print('Parabéns você foi aprovado com nota máxima!')\n",
    "else:\n",
    "  if media >= 6:\n",
    "    print('Parabéns você foi aprovado!')\n",
    "  elif media >= 4:\n",
    "    print('Você está de recuperação online')\n",
    "  elif media >=2:\n",
    "    print('Você está de recuperação presencial')\n",
    "  else:\n",
    "    print('Infelizmente você não foi aprovado dessa vez, continue tentando!')"
   ]
  },
  {
   "cell_type": "code",
   "execution_count": null,
   "metadata": {},
   "outputs": [],
   "source": [
    "'''\n",
    "Crie uma lista com o nome de idades com os seguintes números 48, 55, 62 77 78 80\n",
    "'''\n",
    "idades = [48,55,62,77,78,80]\n",
    "\n",
    "'''\n",
    "Agora converta cada valor da lista em uma string\n",
    "'''\n",
    "\n",
    "for i in range(len(idades)):\n",
    "  idades[i] = str(idades[i])\n",
    "print(idades)\n",
    "\n",
    "'''\n",
    "alternativa utilizando o enumerate\n",
    "'''\n",
    "for i, v in enumerate(idades):\n",
    "  idades[i] = str(v)\n",
    "print(idades)"
   ]
  },
  {
   "cell_type": "code",
   "execution_count": null,
   "metadata": {},
   "outputs": [],
   "source": [
    "'''\n",
    "Crie uma entrada de dados numéricos (notas de 0 a 10) em um único input onde os\n",
    "valores são informados e separados por espaços, e armazene isso tudo\n",
    "em uma variável chamada nota, a seguir verifique qual tipo de dados\n",
    "está armazenado nessa variável.\n",
    "'''\n",
    "nota = input('Informe as notas de 0 a 10 separadas por espaços: ')\n",
    "print(type(nota))\n",
    "\n",
    "'''\n",
    "Agora separe os valores armazenados em nota utilizando os espaços como\n",
    "separadores e armazene tudo em um objeto chamado notas.\n",
    "'''\n",
    "notas = nota.split()\n",
    "\n",
    "'''\n",
    "Agora converta cada valor do objeto notas em número do tipo float,\n",
    "e na sequência exiba o objeto notas e a soma de todos os valores deste\n",
    "objeto\n",
    "'''\n",
    "\n",
    "for i in range(len(notas)):\n",
    "  notas[i] = float(notas[i])\n",
    "print(sum(notas))\n",
    "\n",
    "# Alternativa usando o enumerate\n",
    "\n",
    "for i, v in enumerate(notas):\n",
    "  notas[i] = float(v)\n",
    "print(sum(notas))\n",
    "\n",
    "'''\n",
    "Agora elabore um código que a partir dos valores da lista notas calcule a\n",
    "média aritmética e exiba o valor dessa média\n",
    "'''\n",
    "\n",
    "media = sum(notas)/len(notas)\n",
    "print(media)\n",
    "\n",
    "'''\n",
    "Agora crie um código que caso a média seja maior ou igual a 6 exiba a mensagem\n",
    "Parabéns, você foi aprovado, caso a média seja menor que 6 mas maior ou igual a\n",
    "4 exiba a mensagem você está em recuperação, caso a média seja menor que 4 exiba\n",
    "a mensagem  Infelizmente você não foi aprovado e caso a média seja igual a\n",
    "10 exiba a mensagem Parabéns você foi aprovado com nota máxima.\n",
    "'''\n",
    "\n",
    "if media == 10:\n",
    "  print('Parabéns você foi aprovado com nota máxima!')\n",
    "else:\n",
    "  if media >= 6:\n",
    "    print('Parabéns você foi aprovado!')\n",
    "  elif media >= 4:\n",
    "    print('Você ficou de recuperação!')\n",
    "  else:\n",
    "    print('Infelizmente você não foi aprovado!')"
   ]
  },
  {
   "cell_type": "markdown",
   "metadata": {},
   "source": [
    "## 5.3 - Laço While"
   ]
  },
  {
   "cell_type": "code",
   "execution_count": null,
   "metadata": {},
   "outputs": [],
   "source": [
    "'''\n",
    "Imagine que você deseja criar um programa que inicialmente solicite ao usuário\n",
    "uma quantidade de notas que ele deseja informar armazenando-a em uma variável\n",
    "chamada n, e na sequência o programa execute um loop while solicitando nota por\n",
    "nota e armazendando-as em uma lista chamada notas, até que a quantidade de notas\n",
    "nessa lista seja igual a quantidade informada pelo usuário na variável n.\n",
    "'''\n",
    "n = int(input('Digite a quantidade de notas que deseja informar: '))\n",
    "c = 0\n",
    "notas = []\n",
    "while c < n:\n",
    "  notas.append(float(input(f'Informe a {c+1}ª nota: ')))\n",
    "  c += 1\n",
    "media = sum(notas)/len(notas)\n",
    "print(f'A média das notas informadas é {media:.1f}')"
   ]
  },
  {
   "cell_type": "markdown",
   "metadata": {},
   "source": [
    "## 5.4 - Instrução Break"
   ]
  },
  {
   "cell_type": "code",
   "execution_count": null,
   "metadata": {},
   "outputs": [],
   "source": [
    "'''\n",
    "Imagine que você deseja utilizar uma estrutura for combinada com a função range\n",
    "para percorrer e imprimir uma sequência de tamanho 10, ou seja, que como saída\n",
    "tenhamos 10 prints de 10 números diferentes\n",
    "'''\n",
    "for i in range(10):\n",
    "  print(f'O {i+1}º valor é {i}')"
   ]
  },
  {
   "cell_type": "code",
   "execution_count": null,
   "metadata": {},
   "outputs": [],
   "source": [
    "'''\n",
    "Imagine que na mesma situação do exercício anterior você\n",
    "deseja interromper o ciclo de impressões após o programa ter\n",
    "impresso 5 valores diferentes\n",
    "'''\n",
    "for i in range(10):\n",
    "  if i == 5:\n",
    "    break\n",
    "  print(f'O {i+1}º valor é {i}')"
   ]
  },
  {
   "cell_type": "markdown",
   "metadata": {},
   "source": [
    "## 5.5 - Instrução continue"
   ]
  },
  {
   "cell_type": "code",
   "execution_count": null,
   "metadata": {},
   "outputs": [],
   "source": [
    "'''\n",
    "Ainda imaginando a situação original, suponha que você deseja imprimir\n",
    "toda a sequencia exceto um determinado valor, por exemplo o 5\n",
    "'''\n",
    "for i in range(10):\n",
    "  if i == 5:\n",
    "    continue\n",
    "  print(f'O {i+1}º valor é {i}')"
   ]
  },
  {
   "cell_type": "markdown",
   "metadata": {},
   "source": [
    "## 5.6 - Instrução pass"
   ]
  },
  {
   "cell_type": "code",
   "execution_count": null,
   "metadata": {},
   "outputs": [],
   "source": [
    "'''\n",
    "Imagine que você deseja que o programa ignore a parada estabelecida pelo if\n",
    "'''\n",
    "for i in range(10):\n",
    "  if i == 5:\n",
    "    pass\n",
    "  print(f'O {i+1}º valor é {i}')"
   ]
  },
  {
   "cell_type": "markdown",
   "metadata": {},
   "source": [
    "## 5.7 - while True"
   ]
  },
  {
   "cell_type": "code",
   "execution_count": null,
   "metadata": {},
   "outputs": [],
   "source": [
    "'''\n",
    "Imagine que você deseja criar um programa que receba do usuário um número\n",
    "inteiro que defina quantas vezes será impressa a expressão \"olá mundo!\" e depois\n",
    "imprima essa expressão exatamente na quantidade informada pelo usuário\n",
    "'''"
   ]
  },
  {
   "cell_type": "code",
   "execution_count": null,
   "metadata": {},
   "outputs": [],
   "source": [
    "# Solução 01\n",
    "n = int(input('Informe quantas vezes você deseja ver a mensagem olá mundo: '))\n",
    "c = 0\n",
    "while c < n:\n",
    "  print('Olá Mundo!')\n",
    "  c += 1"
   ]
  },
  {
   "cell_type": "code",
   "execution_count": null,
   "metadata": {},
   "outputs": [],
   "source": [
    "# Solução 02 usando while True\n",
    "n = int(input('Informe quantas vezes você deseja ver a mensagem olá mundo: '))\n",
    "c = 0\n",
    "while True:\n",
    "  if c < n:\n",
    "    print('Olá Mundo!')\n",
    "    c += 1\n",
    "  else:\n",
    "    break"
   ]
  },
  {
   "cell_type": "code",
   "execution_count": null,
   "metadata": {},
   "outputs": [],
   "source": [
    "'''\n",
    "O while True é uma estrutura mais flexível que o while pois não traz a condição\n",
    "na própria linha de declaração while, permitindo assim, que você faça várias\n",
    "outras condições aninhadas logo abaixo da declaração while True.\n",
    "'''"
   ]
  },
  {
   "cell_type": "code",
   "execution_count": null,
   "metadata": {},
   "outputs": [],
   "source": [
    "# Exercício\n",
    "'''\n",
    "Elabore um programa que que receba um número inteiro e positivo do usuário e\n",
    "verifique se o número informado é par ou ímpar, se for par imprima uma mensagem\n",
    "dizendo que o número é par e encerre o loop, caso seja ímpar exiba uma mensagem\n",
    "informando que o número não é par e peça para o usuário digitar outro número,\n",
    "até que o número digitado pelo usuário seja par.\n",
    "'''\n",
    "\n",
    "while True:\n",
    "  n = int(input('Informe um número par inteiro e positivo: '))\n",
    "  if n % 2 == 0:\n",
    "    print(f'O número {n} é um número par! Parabéns!')\n",
    "    break\n",
    "  else:\n",
    "    print(f'O número {n} não é um número par, favor informe um número par')"
   ]
  },
  {
   "cell_type": "markdown",
   "metadata": {},
   "source": [
    "## 5.8 Tratamento de erros (TRY e EXCEPT)"
   ]
  },
  {
   "cell_type": "code",
   "execution_count": null,
   "metadata": {},
   "outputs": [],
   "source": [
    "'''\n",
    "Elabore um programa que receba do usuário um número qualquer e exiba a mensagem:\n",
    "Parabéns você digitou um número!\n",
    "'''"
   ]
  },
  {
   "cell_type": "code",
   "execution_count": null,
   "metadata": {},
   "outputs": [],
   "source": [
    "while True:\n",
    "  try:\n",
    "    n = float(input('Informe um número qualquer: '))\n",
    "    print('Parabéns você digitou um número!')\n",
    "    break\n",
    "  except:\n",
    "    print('o valor informado não é um número')"
   ]
  },
  {
   "cell_type": "code",
   "execution_count": null,
   "metadata": {},
   "outputs": [],
   "source": [
    "'''\n",
    "Imagine que você tem uma lista com seis nomes de pessoas e outra com seis idades\n",
    "Suponha que a posição de cada nome em sua lista corresponde a mesma posição\n",
    "da sua idade na lista idades. Elabore um código que percorra as duas listas,\n",
    "verifique se a pessoa é maior ou menor de idade (18 anos) e exiba uma mensagem\n",
    "com cada nome, sua idade e um texto informando se essa pessoa é maior ou menor\n",
    "de idade.\n",
    "'''\n",
    "nomes = ['Douglas','Daniela','Pedro','Maria','Eduardo','Ester']\n",
    "idades = [48, 9, 70, 70, 44, 37]\n",
    "for i in range(len(nomes)):\n",
    "  if idades[i] >= 18:\n",
    "    print('*'*50)\n",
    "    print(f'{nomes[i]} tem {idades[i]} anos e é maior de idade')\n",
    "    print('*'*50)\n",
    "  else:\n",
    "    print('*'*50)\n",
    "    print(f'{nomes[i]} tem {idades[i]} anos e é menor de idade')\n",
    "    print('*'*50)"
   ]
  },
  {
   "cell_type": "code",
   "execution_count": null,
   "metadata": {},
   "outputs": [],
   "source": [
    "'''\n",
    "Imagine que você tem uma lista com seis nomes de pessoas e outra com seis idades\n",
    "Suponha que a posição de cada nome em sua lista corresponde a mesma posição\n",
    "da sua idade na lista idades. Elabore um código que percorra as duas listas,\n",
    "verifique se a pessoa é maior ou menor de idade (18 anos) e exiba uma mensagem\n",
    "com cada nome, sua idade e um texto informando se essa pessoa é maior ou menor\n",
    "de idade.\n",
    "'''\n",
    "nomes = ['Douglas','Daniela','Pedro','Maria','Eduardo','Ester']\n",
    "idades = [48, 9, 70, 70, 44, 37]\n",
    "for i,v in enumerate(idades):\n",
    "  if idades[i] >= 18:\n",
    "    print('*'*50)\n",
    "    print(f'{nomes[i]} tem {v} anos e é maior de idade')\n",
    "    print('*'*50)\n",
    "  else:\n",
    "    print('*'*50)\n",
    "    print(f'{nomes[i]} tem {v} anos e é menor de idade')\n",
    "    print('*'*50)"
   ]
  },
  {
   "cell_type": "code",
   "execution_count": null,
   "metadata": {},
   "outputs": [],
   "source": [
    "'''\n",
    "Imagine que você deseja criar um programa que receba do usuário o valor de um\n",
    "determinado produto e a informação se esse produto é nacional ou importado e\n",
    "retorne para o usuário o valor do imposto a pagar. Considere que se o produto\n",
    "for nacional a alíquota de imposto é de 18% para valores até R$ 200,00 e 25%\n",
    "para valores acima de R$ 200,00. Agora se o produto for importado é isento para\n",
    "valores até R$ 200,00 e pagará 35% para valores acima de R$ 200,00.\n",
    "'''\n",
    "\n",
    "while True:\n",
    "  try:\n",
    "    valor = float(input('Informe o valor do produto em R$ '))\n",
    "    break\n",
    "  except:\n",
    "    print('valor inválido')\n",
    "nac = input('O produto é nacional? 1 para sim ou 2 para não: ')\n",
    "if nac == '1':\n",
    "  if valor <= 200:\n",
    "    imposto = valor * 0.18\n",
    "  else:\n",
    "    imposto = valor * 0.25\n",
    "else:\n",
    "  if valor > 200:\n",
    "    imposto = valor * 0.35\n",
    "  else:\n",
    "    imposto = 0\n",
    "print(f'O valor do imposto é R$ {imposto:.2f}')"
   ]
  },
  {
   "cell_type": "markdown",
   "metadata": {},
   "source": [
    "# 6 - Compreensão de Listas"
   ]
  },
  {
   "cell_type": "code",
   "execution_count": null,
   "metadata": {},
   "outputs": [],
   "source": [
    "'''\n",
    "Exemplo 01: suponha que você tem uma lista com idades em anos e esta lista está\n",
    "desatualizada em exatamente 1 ano, ou seja, para atualizá-la você precisa\n",
    "acrescentar 1 ano em cada idade presente na lista\n",
    "'''\n",
    "idades = [47, 8, 68, 67, 43, 37]\n",
    "\n",
    "'''\n",
    "Método 01 - Usando o for\n",
    "'''\n",
    "for i in range(len(idades)):\n",
    "  idades[i] = idades[i] + 1\n",
    "print(idades)"
   ]
  },
  {
   "cell_type": "code",
   "execution_count": null,
   "metadata": {},
   "outputs": [],
   "source": [
    "# Método 2 (usando compreensão de listas)\n",
    "idades = [47, 8, 68, 67, 43, 37]\n",
    "idades = [idade + 1 for idade in idades]\n",
    "print(idades)"
   ]
  },
  {
   "cell_type": "code",
   "execution_count": null,
   "metadata": {},
   "outputs": [],
   "source": [
    "'''\n",
    "Exemplo 02: suponha que você tem duas listas de igual tamanho sendo uma com\n",
    "alturas em metros e a outra com pesos em Kg. Considerando que a posição de cada\n",
    "elemento em uma lista corresponde ao mesmo índice desse elemento na outra lista\n",
    "você deseja criar uma lista com imc para cada elemento.\n",
    "'''\n",
    "alturas = [1.85,1.23,1.75,1.67,1.82,1.73]\n",
    "pesos = [70,22,87,64,96,68]\n",
    "imc = []\n",
    "for i in range(len(pesos)):\n",
    "  imc.append(round(pesos[i]/alturas[i]**2,2))\n",
    "print(imc)"
   ]
  },
  {
   "cell_type": "code",
   "execution_count": null,
   "metadata": {},
   "outputs": [],
   "source": [
    "alturas = [1.85,1.23,1.75,1.67,1.82,1.73]\n",
    "pesos = [70,22,87,64,96,68]\n",
    "imc = [round(pesos[i]/alturas[i]**2,2) for i in range(len(pesos))]\n",
    "print(imc)"
   ]
  },
  {
   "cell_type": "markdown",
   "metadata": {},
   "source": [
    "# 7 - Funções definidas pelo usuário"
   ]
  },
  {
   "cell_type": "code",
   "execution_count": null,
   "metadata": {},
   "outputs": [],
   "source": [
    "'''\n",
    "Imagine que você deseja criar uma função que imprima o \"Olá!\" todas as vezes\n",
    "que essa função for executada, sem ter a necessidade de usar o print, por\n",
    "exemplo\n",
    "'''\n",
    "def oi():\n",
    "  print('Olá!')\n",
    "\n",
    "'''\n",
    "O processo de criação de uma função é muito simples, devemos começar com a\n",
    "palavra reservada \"def\" seguido de um nome que vamos usar para chamar a função\n",
    "e dpois parenteses para especificar os argumentos da função, lembrando que os\n",
    "argumentos de uma função, são opcionais, observe que no caso de função do\n",
    "exemplo acima, não temos argumentos obrigatórios, e além disso, essa função não\n",
    "possui retorno\n",
    "'''"
   ]
  },
  {
   "cell_type": "code",
   "execution_count": null,
   "metadata": {},
   "outputs": [],
   "source": [
    "oi()"
   ]
  },
  {
   "cell_type": "code",
   "execution_count": null,
   "metadata": {},
   "outputs": [],
   "source": [
    "'''\n",
    "Suponha agora que você deseja guardar o texto de saída da função acima em uma\n",
    "variável qualquer\n",
    "'''\n",
    "texto = oi()"
   ]
  },
  {
   "cell_type": "code",
   "execution_count": null,
   "metadata": {},
   "outputs": [],
   "source": [
    "print(texto)"
   ]
  },
  {
   "cell_type": "code",
   "execution_count": null,
   "metadata": {},
   "outputs": [],
   "source": [
    "'''\n",
    "Observe que a função cumpre o seu papel, ou seja, quando executada, exibe no\n",
    "console o texto \"Olá!\"\n",
    "'''\n",
    "'''\n",
    "Nesse caso não temos nada guardado na variável texto pq essa função\n",
    "não tem retorno\n",
    "'''"
   ]
  },
  {
   "cell_type": "code",
   "execution_count": null,
   "metadata": {},
   "outputs": [],
   "source": [
    "'''\n",
    "Agora vamos recriar a função oi, porém com retorno\n",
    "'''\n",
    "def oi():\n",
    "  return 'Olá!'"
   ]
  },
  {
   "cell_type": "code",
   "execution_count": null,
   "metadata": {},
   "outputs": [],
   "source": [
    "texto = oi()"
   ]
  },
  {
   "cell_type": "code",
   "execution_count": null,
   "metadata": {},
   "outputs": [],
   "source": [
    "print(texto)"
   ]
  },
  {
   "cell_type": "markdown",
   "metadata": {},
   "source": [
    "## 7.1 - Funções com argumentos nomeados e argumentos de posição (Argumentos obrigatórios)"
   ]
  }
 ],
 "metadata": {
  "kernelspec": {
   "display_name": "Python 3",
   "language": "python",
   "name": "python3"
  },
  "language_info": {
   "codemirror_mode": {
    "name": "ipython",
    "version": 3
   },
   "file_extension": ".py",
   "mimetype": "text/x-python",
   "name": "python",
   "nbconvert_exporter": "python",
   "pygments_lexer": "ipython3",
   "version": "3.12.2"
  }
 },
 "nbformat": 4,
 "nbformat_minor": 2
}
