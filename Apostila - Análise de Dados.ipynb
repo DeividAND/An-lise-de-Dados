{
 "cells": [
  {
   "cell_type": "markdown",
   "metadata": {},
   "source": [
    "# 1 - Variáveis e Tipos de Dados"
   ]
  },
  {
   "cell_type": "markdown",
   "metadata": {},
   "source": [
    "## 1.1 - Variáveis"
   ]
  },
  {
   "cell_type": "code",
   "execution_count": 1,
   "metadata": {},
   "outputs": [
    {
     "name": "stdout",
     "output_type": "stream",
     "text": [
      "Deivid\n",
      "25\n"
     ]
    }
   ],
   "source": [
    "'''\n",
    "Em python, variáveis são utilizadas para armazenar valores na memória do computador. Para criar uma variável, você precisa usar nome e um valor.\n",
    "O nome de variável deve seguir as regras de nomeclatura do Python:\n",
    "\n",
    "Deve começar com uma letra ou sublinhado (_).\n",
    "Pode conter letras, números e sublinhados.\n",
    "Não pode ser uma palavra chave reservada do Python.\n",
    "Para atribuir valor a uma variável, utilize o operados de atribuição (=).\n",
    "Exemplo:\n",
    "'''\n",
    "nome = 'Deivid'\n",
    "print(nome)\n",
    "idade = 25\n",
    "print(idade)"
   ]
  },
  {
   "cell_type": "markdown",
   "metadata": {},
   "source": [
    "## 1.2 - Tipos de Dados "
   ]
  },
  {
   "cell_type": "code",
   "execution_count": 2,
   "metadata": {},
   "outputs": [
    {
     "name": "stdout",
     "output_type": "stream",
     "text": [
      "<class 'str'>\n",
      "<class 'int'>\n",
      "<class 'float'>\n"
     ]
    }
   ],
   "source": [
    "'''\n",
    "Tipos de Dados:\n",
    "\n",
    "Cada variável em Python possui um tipo de dado, que define o tupo de valor que ele pode armazenar. Os tipos de dados mais comuns em Python são:\n",
    "\n",
    "Inteiro(int): Números inteiros, como 1, 2, 3, etc.\n",
    "Ponto flutuante (float): Números com casas decimais, como 1.5, 2.75, 3.14, etc.\n",
    "String (str): Textos, como \"Olá, mundo!\", \"Python é legal\", etc.\n",
    "Booleano (bool): Valores True ou False.\n",
    "Conversão de tipos:\n",
    "\n",
    "É possível converter um tipo de dado para outro usando funções específicas.\n",
    "Exemplo:\n",
    "'''\n",
    "nome = 'Deivid'\n",
    "print(type(nome))\n",
    "numero_inteiro = 10\n",
    "print(type(numero_inteiro))\n",
    "numero_float = float(numero_inteiro) # Converte um inteiro para um float\n",
    "print(type(numero_float))\n"
   ]
  },
  {
   "cell_type": "markdown",
   "metadata": {},
   "source": [
    "# 2 - Operadores Python "
   ]
  },
  {
   "cell_type": "markdown",
   "metadata": {},
   "source": [
    "## 2.1 - Operadores Matemáticos"
   ]
  },
  {
   "cell_type": "code",
   "execution_count": 3,
   "metadata": {},
   "outputs": [
    {
     "data": {
      "text/plain": [
       "'\\nOs operadores aritméticos em Python permitem realizar operações matemáticas\\nbásicas, como adição, subtração, multiplicação, divisão e exponenciação. São\\nferramentas essenciais para qualquer programador Python, desde iniciantes até\\nexperientes.\\n'"
      ]
     },
     "execution_count": 3,
     "metadata": {},
     "output_type": "execute_result"
    }
   ],
   "source": [
    "'''\n",
    "Os operadores aritméticos em Python permitem realizar operações matemáticas\n",
    "básicas, como adição, subtração, multiplicação, divisão e exponenciação. São\n",
    "ferramentas essenciais para qualquer programador Python, desde iniciantes até\n",
    "experientes.\n",
    "'''"
   ]
  },
  {
   "cell_type": "code",
   "execution_count": 4,
   "metadata": {},
   "outputs": [
    {
     "name": "stdout",
     "output_type": "stream",
     "text": [
      "7\n"
     ]
    }
   ],
   "source": [
    "# Soma (+)\n",
    "mais = 5 + 2\n",
    "print(mais)"
   ]
  },
  {
   "cell_type": "code",
   "execution_count": 5,
   "metadata": {},
   "outputs": [
    {
     "name": "stdout",
     "output_type": "stream",
     "text": [
      "3\n"
     ]
    }
   ],
   "source": [
    "# Subtração (-)\n",
    "menos = 5 - 2\n",
    "print(menos)"
   ]
  },
  {
   "cell_type": "code",
   "execution_count": 6,
   "metadata": {},
   "outputs": [
    {
     "name": "stdout",
     "output_type": "stream",
     "text": [
      "10\n"
     ]
    }
   ],
   "source": [
    "# Multiplicação (*)\n",
    "vezeas = 5 * 2\n",
    "print(vezeas)"
   ]
  },
  {
   "cell_type": "code",
   "execution_count": 7,
   "metadata": {},
   "outputs": [
    {
     "name": "stdout",
     "output_type": "stream",
     "text": [
      "2.5\n"
     ]
    }
   ],
   "source": [
    "# Divisão (/)\n",
    "dividir = 5 / 2\n",
    "print(dividir)"
   ]
  },
  {
   "cell_type": "code",
   "execution_count": 8,
   "metadata": {},
   "outputs": [
    {
     "name": "stdout",
     "output_type": "stream",
     "text": [
      "2\n"
     ]
    }
   ],
   "source": [
    "# Divisão inteira (//)\n",
    "inteiro = 5 // 2\n",
    "print(inteiro)"
   ]
  },
  {
   "cell_type": "code",
   "execution_count": 9,
   "metadata": {},
   "outputs": [
    {
     "name": "stdout",
     "output_type": "stream",
     "text": [
      "1\n"
     ]
    }
   ],
   "source": [
    "# Resto da divisão (%)\n",
    "resto = 5 % 2\n",
    "print(resto)"
   ]
  },
  {
   "cell_type": "code",
   "execution_count": 10,
   "metadata": {},
   "outputs": [
    {
     "name": "stdout",
     "output_type": "stream",
     "text": [
      "25\n"
     ]
    }
   ],
   "source": [
    "# Potenciação (**)\n",
    "potencia = 5 ** 2\n",
    "print(potencia)"
   ]
  },
  {
   "cell_type": "markdown",
   "metadata": {},
   "source": [
    "## 2.2 - Operadores de comparação"
   ]
  },
  {
   "cell_type": "code",
   "execution_count": 11,
   "metadata": {},
   "outputs": [
    {
     "data": {
      "text/plain": [
       "'\\nOs operadores de comparação em Python permitem verificar se duas expressões são\\niguais, diferentes, maiores, menores, etc. São ferramentas essenciais para tomar\\ndecisões e realizar comparações em seus programas. Retornam com resultado\\nverdadeiro (True) ou Falso (False) (tipo bool)\\n'"
      ]
     },
     "execution_count": 11,
     "metadata": {},
     "output_type": "execute_result"
    }
   ],
   "source": [
    "'''\n",
    "Os operadores de comparação em Python permitem verificar se duas expressões são\n",
    "iguais, diferentes, maiores, menores, etc. São ferramentas essenciais para tomar\n",
    "decisões e realizar comparações em seus programas. Retornam com resultado\n",
    "verdadeiro (True) ou Falso (False) (tipo bool)\n",
    "'''"
   ]
  },
  {
   "cell_type": "code",
   "execution_count": 12,
   "metadata": {},
   "outputs": [
    {
     "name": "stdout",
     "output_type": "stream",
     "text": [
      "False\n"
     ]
    }
   ],
   "source": [
    "# Operador de igualdade (==)\n",
    "igualdade = 3 == 4\n",
    "print(igualdade)"
   ]
  },
  {
   "cell_type": "code",
   "execution_count": 13,
   "metadata": {},
   "outputs": [
    {
     "name": "stdout",
     "output_type": "stream",
     "text": [
      "True\n"
     ]
    }
   ],
   "source": [
    "# Operador de diferença (!=)\n",
    "diferente = 3 != 4\n",
    "print(diferente)"
   ]
  },
  {
   "cell_type": "code",
   "execution_count": 14,
   "metadata": {},
   "outputs": [
    {
     "name": "stdout",
     "output_type": "stream",
     "text": [
      "False\n"
     ]
    }
   ],
   "source": [
    "# Operador maior que (>)\n",
    "maior = 3 > 4\n",
    "print(maior)"
   ]
  },
  {
   "cell_type": "code",
   "execution_count": 15,
   "metadata": {},
   "outputs": [
    {
     "name": "stdout",
     "output_type": "stream",
     "text": [
      "True\n"
     ]
    }
   ],
   "source": [
    "# Operador menor que (<)\n",
    "menor = 3 < 4\n",
    "print(menor)"
   ]
  },
  {
   "cell_type": "code",
   "execution_count": 16,
   "metadata": {},
   "outputs": [
    {
     "name": "stdout",
     "output_type": "stream",
     "text": [
      "True\n"
     ]
    }
   ],
   "source": [
    "# Operador maior ou igual a (>=)\n",
    "maior_igual = 4 >= 4\n",
    "print(maior_igual)"
   ]
  },
  {
   "cell_type": "code",
   "execution_count": 17,
   "metadata": {},
   "outputs": [
    {
     "name": "stdout",
     "output_type": "stream",
     "text": [
      "True\n"
     ]
    }
   ],
   "source": [
    "# Operador menor ou igual a (<=)\n",
    "menor_igual = 4 <= 4\n",
    "print(menor_igual)"
   ]
  },
  {
   "cell_type": "code",
   "execution_count": 18,
   "metadata": {},
   "outputs": [
    {
     "name": "stdout",
     "output_type": "stream",
     "text": [
      "False\n",
      "True\n"
     ]
    }
   ],
   "source": [
    "# Operador de identidade (is)\n",
    "a = 7\n",
    "b = 7.0\n",
    "print(a is b)\n",
    "print(a == b)"
   ]
  },
  {
   "cell_type": "code",
   "execution_count": 19,
   "metadata": {},
   "outputs": [
    {
     "name": "stdout",
     "output_type": "stream",
     "text": [
      "True\n",
      "False\n"
     ]
    }
   ],
   "source": [
    "# Operador de identidade (is not)\n",
    "a = 7\n",
    "b = 7.0\n",
    "print(a is not b)\n",
    "print(a != b)"
   ]
  },
  {
   "cell_type": "markdown",
   "metadata": {},
   "source": [
    "## 2.3 - Operadores de Associação (in e not in)"
   ]
  },
  {
   "cell_type": "code",
   "execution_count": 20,
   "metadata": {},
   "outputs": [
    {
     "data": {
      "text/plain": [
       "'\\nOs operadores de associação in e not in em Python permitem verificar se um\\nelemento está presente ou não em uma coleção, como listas, tuplas, dicionários e\\nstrings. São ferramentas úteis para filtrar dados e realizar comparações em seus\\nprogramas. Assim como os aoperadores de comparação eles retornam\\nVerdadeiro (True) ou Falso (False)\\n'"
      ]
     },
     "execution_count": 20,
     "metadata": {},
     "output_type": "execute_result"
    }
   ],
   "source": [
    "'''\n",
    "Os operadores de associação in e not in em Python permitem verificar se um\n",
    "elemento está presente ou não em uma coleção, como listas, tuplas, dicionários e\n",
    "strings. São ferramentas úteis para filtrar dados e realizar comparações em seus\n",
    "programas. Assim como os aoperadores de comparação eles retornam\n",
    "Verdadeiro (True) ou Falso (False)\n",
    "'''"
   ]
  },
  {
   "cell_type": "code",
   "execution_count": 21,
   "metadata": {},
   "outputs": [
    {
     "name": "stdout",
     "output_type": "stream",
     "text": [
      "True\n"
     ]
    }
   ],
   "source": [
    "# Operador in\n",
    "nome = 'Douglas'\n",
    "print('D' in nome)"
   ]
  },
  {
   "cell_type": "code",
   "execution_count": 22,
   "metadata": {},
   "outputs": [
    {
     "name": "stdout",
     "output_type": "stream",
     "text": [
      "True\n"
     ]
    }
   ],
   "source": [
    "# Operador not in\n",
    "nome = 'Douglas'\n",
    "print('d' not in nome)"
   ]
  },
  {
   "cell_type": "markdown",
   "metadata": {},
   "source": [
    "## 2.4 - Operadores Lógicos "
   ]
  },
  {
   "cell_type": "code",
   "execution_count": 23,
   "metadata": {},
   "outputs": [
    {
     "data": {
      "text/plain": [
       "'\\nOs operadores lógicos em Python permitem combinar expressões booleanas\\n(True ou False) para formar novas expressões booleanas. São ferramentas\\nessenciais para tomar decisões e realizar comparações complexas em seus\\nprogramas. São eles:\\n\\nE (and): Retorna True se ambas as expressões forem True.\\nExemplo: x > 0 and y < 10.\\n\\nOu (or): Retorna True se pelo menos uma das expressões for True.\\nExemplo: x == 0 or y == 10.\\n\\nNão (not): Inverte o valor da expressão.\\nExemplo: not (x > 0).\\n'"
      ]
     },
     "execution_count": 23,
     "metadata": {},
     "output_type": "execute_result"
    }
   ],
   "source": [
    "'''\n",
    "Os operadores lógicos em Python permitem combinar expressões booleanas\n",
    "(True ou False) para formar novas expressões booleanas. São ferramentas\n",
    "essenciais para tomar decisões e realizar comparações complexas em seus\n",
    "programas. São eles:\n",
    "\n",
    "E (and): Retorna True se ambas as expressões forem True.\n",
    "Exemplo: x > 0 and y < 10.\n",
    "\n",
    "Ou (or): Retorna True se pelo menos uma das expressões for True.\n",
    "Exemplo: x == 0 or y == 10.\n",
    "\n",
    "Não (not): Inverte o valor da expressão.\n",
    "Exemplo: not (x > 0).\n",
    "'''"
   ]
  },
  {
   "cell_type": "code",
   "execution_count": 24,
   "metadata": {},
   "outputs": [
    {
     "name": "stdout",
     "output_type": "stream",
     "text": [
      "True\n",
      "False\n"
     ]
    }
   ],
   "source": [
    "# Operador AND retorna verdadeiro se todas as condições forem verdadeiras\n",
    "a = 3\n",
    "b = 4\n",
    "c = 5\n",
    "print(a < b and b < c)\n",
    "print(a < b and b > c)"
   ]
  },
  {
   "cell_type": "code",
   "execution_count": 25,
   "metadata": {},
   "outputs": [
    {
     "name": "stdout",
     "output_type": "stream",
     "text": [
      "True\n",
      "True\n",
      "False\n"
     ]
    }
   ],
   "source": [
    "# Operador OR retorna verdadeiro se pelo menos uma das condições for verdadeira\n",
    "a = 3\n",
    "b = 4\n",
    "c = 5\n",
    "print(a < b or b < c) # verdadeiro\n",
    "print(a < b or b > c) # verdadiro\n",
    "print(a > b or a > c) # Falso"
   ]
  },
  {
   "cell_type": "code",
   "execution_count": 26,
   "metadata": {},
   "outputs": [
    {
     "name": "stdout",
     "output_type": "stream",
     "text": [
      "True\n",
      "False\n"
     ]
    }
   ],
   "source": [
    "# Operador not (inverte o resulta de verdadeiro para falso e de falso para verdadeiro)\n",
    "a = 3\n",
    "b = 4\n",
    "c = 5\n",
    "print(not(a > b))\n",
    "print(not(a < b))"
   ]
  },
  {
   "cell_type": "markdown",
   "metadata": {},
   "source": [
    "# 3 - Strings"
   ]
  },
  {
   "cell_type": "markdown",
   "metadata": {},
   "source": [
    "## 3.1 - Formatação de Strings (f-strings)"
   ]
  },
  {
   "cell_type": "code",
   "execution_count": 27,
   "metadata": {},
   "outputs": [
    {
     "data": {
      "text/plain": [
       "'\\nAs f-strings em Python são uma maneira concisa e elegante de formatar strings.\\nElas permitem incorporar expressões Python diretamente dentro de strings,\\ntornando o código mais legível e fácil de manter.\\n\\nComo usar f-strings:\\n\\nPara usar f-strings, basta prefixar uma string literal com a letra \"f\".\\nDentro da string, você pode usar expressões Python entre chaves \"{}\":\\n'"
      ]
     },
     "execution_count": 27,
     "metadata": {},
     "output_type": "execute_result"
    }
   ],
   "source": [
    "'''\n",
    "As f-strings em Python são uma maneira concisa e elegante de formatar strings.\n",
    "Elas permitem incorporar expressões Python diretamente dentro de strings,\n",
    "tornando o código mais legível e fácil de manter.\n",
    "\n",
    "Como usar f-strings:\n",
    "\n",
    "Para usar f-strings, basta prefixar uma string literal com a letra \"f\".\n",
    "Dentro da string, você pode usar expressões Python entre chaves \"{}\":\n",
    "'''"
   ]
  },
  {
   "cell_type": "code",
   "execution_count": 28,
   "metadata": {},
   "outputs": [
    {
     "name": "stdout",
     "output_type": "stream",
     "text": [
      "O nome do cliente é Deivid, e ele tem 25 anos de idade!\n"
     ]
    }
   ],
   "source": [
    "cliente = 'Deivid'\n",
    "idade = 25\n",
    "print(f'O nome do cliente é {cliente}, e ele tem {idade} anos de idade!')"
   ]
  },
  {
   "cell_type": "code",
   "execution_count": 29,
   "metadata": {},
   "outputs": [
    {
     "name": "stdout",
     "output_type": "stream",
     "text": [
      "0.6666666666666666\n",
      "A taxa é 0.67\n"
     ]
    }
   ],
   "source": [
    "taxa = 2/3\n",
    "print(taxa)\n",
    "print(f'A taxa é {taxa:.2f}')"
   ]
  },
  {
   "cell_type": "markdown",
   "metadata": {},
   "source": [
    "## 3.2 Entrada definida pelo usuário (função input)"
   ]
  },
  {
   "cell_type": "code",
   "execution_count": 30,
   "metadata": {},
   "outputs": [
    {
     "data": {
      "text/plain": [
       "'\\nA função input() em Python permite que você obtenha entrada do usuário durante a\\nexecução do programa. É uma ferramenta essencial para interagir com o usuário e\\ncoletar dados para processamento.\\n\\nComo usar a função input():\\n\\nA função input() é simples de usar. Basta fornecer uma mensagem entre parênteses\\npara instruir o usuário sobre o que digitar:\\n'"
      ]
     },
     "execution_count": 30,
     "metadata": {},
     "output_type": "execute_result"
    }
   ],
   "source": [
    "'''\n",
    "A função input() em Python permite que você obtenha entrada do usuário durante a\n",
    "execução do programa. É uma ferramenta essencial para interagir com o usuário e\n",
    "coletar dados para processamento.\n",
    "\n",
    "Como usar a função input():\n",
    "\n",
    "A função input() é simples de usar. Basta fornecer uma mensagem entre parênteses\n",
    "para instruir o usuário sobre o que digitar:\n",
    "'''"
   ]
  },
  {
   "cell_type": "code",
   "execution_count": 31,
   "metadata": {},
   "outputs": [],
   "source": [
    "nome = input('Informe seu primeiro nome: ')\n",
    "print(f'Olá, {nome}!')"
   ]
  },
  {
   "cell_type": "code",
   "execution_count": null,
   "metadata": {},
   "outputs": [],
   "source": [
    "nome = input('Informe o seu primeiro nome: ')\n",
    "massa = float(input('Informe seu peso em kg: '))\n",
    "altura = float(input('Informe sua altura em metros na forma decimal: '))\n",
    "imc = massa / (altura ** 2)\n",
    "print(f'Olá {nome}! Seu IMC é {imc:.2f}')"
   ]
  }
 ],
 "metadata": {
  "kernelspec": {
   "display_name": "Python 3",
   "language": "python",
   "name": "python3"
  },
  "language_info": {
   "codemirror_mode": {
    "name": "ipython",
    "version": 3
   },
   "file_extension": ".py",
   "mimetype": "text/x-python",
   "name": "python",
   "nbconvert_exporter": "python",
   "pygments_lexer": "ipython3",
   "version": "3.12.2"
  }
 },
 "nbformat": 4,
 "nbformat_minor": 2
}
