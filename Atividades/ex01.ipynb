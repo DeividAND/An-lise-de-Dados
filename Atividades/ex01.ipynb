{
 "cells": [
  {
   "cell_type": "code",
   "execution_count": 1,
   "metadata": {},
   "outputs": [
    {
     "name": "stdout",
     "output_type": "stream",
     "text": [
      "<class 'str'>\n"
     ]
    }
   ],
   "source": [
    "'''\n",
    "1. Crie uma variável para armazenar seu nome e\n",
    "imprima seu tipo de dado.\n",
    "'''\n",
    "\n",
    "nome = 'Deivid'   # Criando a variável nome e adicionando o valor str ('Deivid')\n",
    "print(type(nome)) # Impriminto o resultado não da variável mas sim do seu tipo com a função type()"
   ]
  },
  {
   "cell_type": "code",
   "execution_count": 2,
   "metadata": {},
   "outputs": [
    {
     "name": "stdout",
     "output_type": "stream",
     "text": [
      "A soma entre 10 e 2.5 é igual a 12.5.\n"
     ]
    }
   ],
   "source": [
    "'''\n",
    "2. Declare duas variáveis, uma com um valor inteiro e outra com um valor\n",
    "float. Imprima o resultado da soma das duas variáveis.\n",
    "'''\n",
    "\n",
    "num_int = 10                                                            # Variável contendo o número inteiro\n",
    "num_float = 2.5                                                         # Variável contendo um número float (número com casas decimais)\n",
    "soma = num_int + num_float                                              # Variável soma criada para realizar a operação entre valores numéricos \n",
    "print(f'A soma entre {num_int} e {num_float} é igual a {soma}.')        # Imprimindo o resultado da soma através da função print()"
   ]
  },
  {
   "cell_type": "code",
   "execution_count": 3,
   "metadata": {},
   "outputs": [
    {
     "name": "stdout",
     "output_type": "stream",
     "text": [
      "True\n"
     ]
    }
   ],
   "source": [
    "'''\n",
    "3. Verifique se o número 10 é maior que 5 e imprima o resultado da\n",
    "comparação.\n",
    "'''\n",
    "\n",
    "verificaçao = 10 > 5   # Varável recebe o valor \"10\" inteiro e compara através do operador  lógico \"maior que\" (>) se ele é maior que o valor inteiro \"5\"\n",
    "print(verificaçao)     # Resultado lógico da comparação retorna um booleano que neste caso é True por se tratar de uma afirmativa verdadeira."
   ]
  },
  {
   "cell_type": "code",
   "execution_count": 4,
   "metadata": {},
   "outputs": [
    {
     "name": "stdout",
     "output_type": "stream",
     "text": [
      "True\n"
     ]
    }
   ],
   "source": [
    "'''\n",
    "4. Utilize o operador in para verificar se a letra \"a\" está presente na string\n",
    "\"banana\".\n",
    "'''\n",
    "\n",
    "string = 'banana'       # Variável contendo uma string com o valor 'banana\"\n",
    "print('a' in string)    # Verificando se a letra \"a\" se encontra dentro da string (\"banana\")"
   ]
  }
 ],
 "metadata": {
  "kernelspec": {
   "display_name": "Python 3",
   "language": "python",
   "name": "python3"
  },
  "language_info": {
   "codemirror_mode": {
    "name": "ipython",
    "version": 3
   },
   "file_extension": ".py",
   "mimetype": "text/x-python",
   "name": "python",
   "nbconvert_exporter": "python",
   "pygments_lexer": "ipython3",
   "version": "3.12.2"
  }
 },
 "nbformat": 4,
 "nbformat_minor": 2
}
