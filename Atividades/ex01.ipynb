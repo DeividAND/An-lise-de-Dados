{
 "cells": [
  {
   "cell_type": "code",
   "execution_count": 1,
   "metadata": {},
   "outputs": [
    {
     "name": "stdout",
     "output_type": "stream",
     "text": [
      "<class 'str'>\n"
     ]
    }
   ],
   "source": [
    "'''\n",
    "1. Crie uma variável para armazenar seu nome e\n",
    "imprima seu tipo de dado.\n",
    "'''\n",
    "\n",
    "nome = 'Deivid'   # Criando a variável nome e adicionando o valor str ('Deivid')\n",
    "print(type(nome)) # Impriminto o resultado não da variável mais sim do seu tipo com a função type()"
   ]
  },
  {
   "cell_type": "code",
   "execution_count": null,
   "metadata": {},
   "outputs": [],
   "source": [
    "'''\n",
    "2. Declare duas variáveis, uma com um valor inteiro e outra com um valor\n",
    "float. Imprima o resultado da soma das duas variáveis.\n",
    "'''\n",
    "\n",
    "num_int = 10\n",
    "num_float = 2.5\n",
    "soma = num_int + num_float\n",
    "print(f'A soma entre {num_int} e {num_float} é igual a {soma}.')"
   ]
  }
 ],
 "metadata": {
  "kernelspec": {
   "display_name": "Python 3",
   "language": "python",
   "name": "python3"
  },
  "language_info": {
   "codemirror_mode": {
    "name": "ipython",
    "version": 3
   },
   "file_extension": ".py",
   "mimetype": "text/x-python",
   "name": "python",
   "nbconvert_exporter": "python",
   "pygments_lexer": "ipython3",
   "version": "3.12.2"
  }
 },
 "nbformat": 4,
 "nbformat_minor": 2
}
