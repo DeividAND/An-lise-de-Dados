{
 "cells": [
  {
   "cell_type": "markdown",
   "metadata": {},
   "source": [
    "# Fazendo consultas filtrando os dados do banco original"
   ]
  },
  {
   "cell_type": "code",
   "execution_count": null,
   "metadata": {},
   "outputs": [],
   "source": [
    "'''\n",
    "Objetivo é fazer uma consulta de todos os atributos da tabela Cliente, porém\n",
    "retornando apenas as linhas dos clientes cujo endereço é = 'BA'\n",
    "'''\n",
    "# Estabelecimento da conexão com o banco de dados usando as informações fornecidas\n",
    "conn = psycopg2.connect(\n",
    "    host=host,\n",
    "    user=user,\n",
    "    password=password,\n",
    "    database=database,\n",
    ")\n",
    "cursor = conn.cursor() # Criação de um cursor para executar consultas SQL no banco de dados\n",
    "query = '''\n",
    "SELECT * FROM Cliente\n",
    "WHERE endereco = 'BA'\n",
    "''' # Definição da consulta SQL a ser executada\n",
    "nomes_end_clientes = sqlio.read_sql_query(query, conn)\n",
    "display(nomes_end_clientes) # Exibição do DataFrame Pandas contendo os resultados da consulta\n",
    "cursor.close() # Fechamento do cursor após a conclusão da consulta\n",
    "conn.close() # Fechamento da conexão após a consulta"
   ]
  },
  {
   "cell_type": "code",
   "execution_count": null,
   "metadata": {},
   "outputs": [],
   "source": [
    "'''\n",
    "Resumo do comando: Seleciona as colunas: id_produto e quantidade da tabela:\n",
    "ItemPedido, quando a quantidade for maior ou igual a 40 e armazena\n",
    "os resultados da consulta em um dataframe Pandas chamado where1\n",
    "'''\n",
    "# Estabelecimento da conexão com o banco de dados usando as informações fornecidas\n",
    "conn = psycopg2.connect(\n",
    "    host=host,\n",
    "    user=user,\n",
    "    password=password,\n",
    "    database=database,\n",
    ")\n",
    "cursor = conn.cursor() # Criação de um cursor para executar consultas SQL no banco de dados\n",
    "query = '''\n",
    "SELECT id_produto, quantidade FROM ItemPedido\n",
    "WHERE quantidade >= 40\n",
    "''' # Definição da consulta SQL a ser executada\n",
    "where1 = sqlio.read_sql_query(query, conn)\n",
    "display(where1) # Exibição do DataFrame Pandas contendo os resultados da consulta\n",
    "cursor.close() # Fechamento do cursor após a conclusão da consulta\n",
    "conn.close() # Fechamento da conexão após a consulta"
   ]
  },
  {
   "cell_type": "code",
   "execution_count": null,
   "metadata": {},
   "outputs": [],
   "source": [
    "'''\n",
    "Resumo do comando: Seleciona todas as colunas da tabela Cliente,\n",
    "quando o endereço for igual a SP\n",
    "e armazena os resultados da consulta em um dataframe Pandas chamado where2\n",
    "'''\n",
    "# Estabelecimento da conexão com o banco de dados usando as informações fornecidas\n",
    "conn = psycopg2.connect(\n",
    "    host=host,\n",
    "    user=user,\n",
    "    password=password,\n",
    "    database=database,\n",
    ")\n",
    "cursor = conn.cursor() # Criação de um cursor para executar consultas SQL no banco de dados\n",
    "query = '''\n",
    "SELECT * FROM Cliente\n",
    "WHERE endereco = 'SP'\n",
    "''' # Definição da consulta SQL a ser executada\n",
    "where2 = sqlio.read_sql_query(query, conn)\n",
    "display(where2) # Exibição do DataFrame Pandas contendo os resultados da consulta\n",
    "cursor.close() # Fechamento do cursor após a conclusão da consulta\n",
    "conn.close() # Fechamento da conexão após a consulta"
   ]
  },
  {
   "cell_type": "code",
   "execution_count": null,
   "metadata": {},
   "outputs": [],
   "source": [
    "'''\n",
    "Resumo do comando: Seleciona distintamente as colunas: id_produto e quantidade\n",
    "da tabela: ItemPedido, quando o quando a quantidade for maior ou igual a 10.\n",
    "e armazena os resultados da consulta em um dataframe Pandas chamado distinct\n",
    "'''\n",
    "# Estabelecimento da conexão com o banco de dados usando as informações fornecidas\n",
    "conn = psycopg2.connect(\n",
    "    host=host,\n",
    "    user=user,\n",
    "    password=password,\n",
    "    database=database,\n",
    ")\n",
    "cursor = conn.cursor() # Criação de um cursor para executar consultas SQL no banco de dados\n",
    "query = '''\n",
    "SELECT DISTINCT id_produto, quantidade FROM ItemPedido\n",
    "WHERE quantidade >= 10;\n",
    "''' # Definição da consulta SQL a ser executada\n",
    "distinct = sqlio.read_sql_query(query, conn)\n",
    "display(distinct) # Exibição do DataFrame Pandas contendo os resultados da consulta\n",
    "cursor.close() # Fechamento do cursor após a conclusão da consulta\n",
    "conn.close() # Fechamento da conexão após a consulta"
   ]
  },
  {
   "cell_type": "code",
   "execution_count": null,
   "metadata": {},
   "outputs": [],
   "source": [
    "'''\n",
    "Resumo do comando: Lendo o comando: Seleciona todos os atributos da tabela\n",
    "Cliente e mostra apenas os cinco primeiros registros, e armazena os resultados\n",
    "da consulta em um dataframe Pandas chamado limit\n",
    "'''\n",
    "# Estabelecimento da conexão com o banco de dados usando as informações fornecidas\n",
    "conn = psycopg2.connect(\n",
    "    host=host,\n",
    "    user=user,\n",
    "    password=password,\n",
    "    database=database,\n",
    ")\n",
    "cursor = conn.cursor() # Criação de um cursor para executar consultas SQL no banco de dados\n",
    "query = '''\n",
    "SELECT * FROM Cliente\n",
    "LIMIT 5;\n",
    "''' # Definição da consulta SQL a ser executada\n",
    "limit = sqlio.read_sql_query(query, conn)\n",
    "display(limit) # Exibição do DataFrame Pandas contendo os resultados da consulta\n",
    "cursor.close() # Fechamento do cursor após a conclusão da consulta\n",
    "conn.close() # Fechamento da conexão após a consulta"
   ]
  }
 ],
 "metadata": {
  "language_info": {
   "name": "python"
  }
 },
 "nbformat": 4,
 "nbformat_minor": 2
}
